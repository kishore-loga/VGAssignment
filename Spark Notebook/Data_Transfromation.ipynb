{
  "cells": [
    {
      "cell_type": "code",
      "execution_count": 180,
      "metadata": {
        "collapsed": false,
        "microsoft": {
          "language": "python"
        }
      },
      "outputs": [
        {
          "data": {
            "application/vnd.livy.statement-meta+json": {
              "execution_finish_time": "2023-06-04T17:46:37.5293141Z",
              "execution_start_time": "2023-06-04T17:46:36.9652534Z",
              "livy_statement_state": "available",
              "parent_msg_id": "eb45c725-bfab-4783-ac7e-46945baffab7",
              "queued_time": "2023-06-04T17:46:36.8216331Z",
              "session_id": "1",
              "session_start_time": null,
              "spark_jobs": null,
              "spark_pool": "vgsparkpool",
              "state": "finished",
              "statement_id": 181
            },
            "text/plain": [
              "StatementMeta(vgsparkpool, 1, 181, Finished, Available)"
            ]
          },
          "metadata": {},
          "output_type": "display_data"
        },
        {
          "data": {
            "application/vnd.synapse.widget-view+json": {
              "widget_id": "16a87480-caee-43da-b671-3fdb8ffced99",
              "widget_type": "Synapse.DataFrame"
            },
            "text/plain": [
              "SynapseWidget(Synapse.DataFrame, 16a87480-caee-43da-b671-3fdb8ffced99)"
            ]
          },
          "metadata": {},
          "output_type": "display_data"
        }
      ],
      "source": [
        "%%pyspark\n",
        "df = spark.read.option(\"multiline\",\"true\").json('abfss://vgdlg2container@vgdlg2.dfs.core.windows.net/sensor_data.json')\n",
        "display(df)"
      ]
    },
    {
      "cell_type": "code",
      "execution_count": 181,
      "metadata": {
        "jupyter": {
          "outputs_hidden": true,
          "source_hidden": false
        },
        "nteract": {
          "transient": {
            "deleting": false
          }
        }
      },
      "outputs": [
        {
          "data": {
            "application/vnd.livy.statement-meta+json": {
              "execution_finish_time": "2023-06-04T17:46:37.8567314Z",
              "execution_start_time": "2023-06-04T17:46:37.686281Z",
              "livy_statement_state": "available",
              "parent_msg_id": "c7593bc7-796b-4d55-ae62-f75b361260ae",
              "queued_time": "2023-06-04T17:46:36.8707951Z",
              "session_id": "1",
              "session_start_time": null,
              "spark_jobs": null,
              "spark_pool": "vgsparkpool",
              "state": "finished",
              "statement_id": 182
            },
            "text/plain": [
              "StatementMeta(vgsparkpool, 1, 182, Finished, Available)"
            ]
          },
          "metadata": {},
          "output_type": "display_data"
        },
        {
          "name": "stdout",
          "output_type": "stream",
          "text": [
            "root\n",
            " |-- concentration: double (nullable = true)\n",
            " |-- gas_type: string (nullable = true)\n",
            " |-- light_intensity: long (nullable = true)\n",
            " |-- location: string (nullable = true)\n",
            " |-- metadata: struct (nullable = true)\n",
            " |    |-- calibration_date: string (nullable = true)\n",
            " |    |-- manufacturer: string (nullable = true)\n",
            " |    |-- model: string (nullable = true)\n",
            " |    |-- serial_number: string (nullable = true)\n",
            " |-- power_consumption: long (nullable = true)\n",
            " |-- pressure: double (nullable = true)\n",
            " |-- reading: string (nullable = true)\n",
            " |-- sensor_id: string (nullable = true)\n",
            " |-- sensor_type: string (nullable = true)\n",
            " |-- status: string (nullable = true)\n",
            " |-- timestamp: string (nullable = true)\n",
            " |-- unit: string (nullable = true)\n",
            " |-- vibration_intensity: double (nullable = true)\n",
            "\n"
          ]
        }
      ],
      "source": [
        "df.printSchema()"
      ]
    },
    {
      "cell_type": "code",
      "execution_count": 182,
      "metadata": {
        "jupyter": {
          "outputs_hidden": true,
          "source_hidden": false
        },
        "nteract": {
          "transient": {
            "deleting": false
          }
        }
      },
      "outputs": [
        {
          "data": {
            "application/vnd.livy.statement-meta+json": {
              "execution_finish_time": "2023-06-04T17:46:38.5755818Z",
              "execution_start_time": "2023-06-04T17:46:38.014986Z",
              "livy_statement_state": "available",
              "parent_msg_id": "f938e9c2-278b-46c6-9593-71eea02d2f38",
              "queued_time": "2023-06-04T17:46:36.96087Z",
              "session_id": "1",
              "session_start_time": null,
              "spark_jobs": null,
              "spark_pool": "vgsparkpool",
              "state": "finished",
              "statement_id": 183
            },
            "text/plain": [
              "StatementMeta(vgsparkpool, 1, 183, Finished, Available)"
            ]
          },
          "metadata": {},
          "output_type": "display_data"
        },
        {
          "name": "stdout",
          "output_type": "stream",
          "text": [
            "+-------+-----------------+--------+------------------+------------+-----------------+------------------+--------------------+---------+-----------+--------+--------------------+--------------------+-------------------+\n",
            "|summary|    concentration|gas_type|   light_intensity|    location|power_consumption|          pressure|             reading|sensor_id|sensor_type|  status|           timestamp|                unit|vibration_intensity|\n",
            "+-------+-----------------+--------+------------------+------------+-----------------+------------------+--------------------+---------+-----------+--------+--------------------+--------------------+-------------------+\n",
            "|  count|               14|      16|                13|         129|                1|                13|                  72|      129|        129|       2|                 129|                 127|                 14|\n",
            "|   mean|3.178571428571428|    null| 536.1538461538462|        null|           1250.0|100.23846153846155|  125.37528169014082|     null|       null|    null|                null|                null| 0.4814285714285714|\n",
            "| stddev| 4.55110782311103|    null|157.45573248474534|        null|             null|1.1079549190125484|   272.3699276363559|     null|       null|    null|                null|                null|0.18830650721454278|\n",
            "|    min|              0.5| Ammonia|               350|Chemical Lab|             1250|              98.7|               -10.2|     S001|air_quality|detected|2023-06-04T09:30:00Z|                   %|                0.2|\n",
            "|    max|             18.5|  Oxygen|               850| Warehouse C|             1250|             101.3|{\"CO2\":800,\"PM2.5...|     S130|     weight|occupied|2023-06-08T10:15:00Z|{\"CO2\":\"ppm\",\"PM2...|                0.8|\n",
            "+-------+-----------------+--------+------------------+------------+-----------------+------------------+--------------------+---------+-----------+--------+--------------------+--------------------+-------------------+\n",
            "\n"
          ]
        }
      ],
      "source": [
        "df.describe().show()"
      ]
    },
    {
      "cell_type": "code",
      "execution_count": 183,
      "metadata": {
        "jupyter": {
          "outputs_hidden": false,
          "source_hidden": false
        },
        "nteract": {
          "transient": {
            "deleting": false
          }
        }
      },
      "outputs": [
        {
          "data": {
            "application/vnd.livy.statement-meta+json": {
              "execution_finish_time": "2023-06-04T17:46:38.9118914Z",
              "execution_start_time": "2023-06-04T17:46:38.73493Z",
              "livy_statement_state": "available",
              "parent_msg_id": "61f3fe23-52b5-4ab5-a847-3edfabbfa6d2",
              "queued_time": "2023-06-04T17:46:37.091229Z",
              "session_id": "1",
              "session_start_time": null,
              "spark_jobs": null,
              "spark_pool": "vgsparkpool",
              "state": "finished",
              "statement_id": 184
            },
            "text/plain": [
              "StatementMeta(vgsparkpool, 1, 184, Finished, Available)"
            ]
          },
          "metadata": {},
          "output_type": "display_data"
        }
      ],
      "source": [
        "from pyspark.sql.types import StructType, StructField, StringType, DoubleType, TimestampType, LongType\n",
        "\n",
        "schema = StructType([\n",
        "    StructField(\"concentration\", DoubleType(), True),\n",
        "    StructField(\"gas_type\", StringType(), True),\n",
        "    StructField(\"light_intensity\", LongType(), True),\n",
        "    StructField(\"location\", StringType(), True),\n",
        "    StructField(\"metadata\", StructType([\n",
        "        StructField(\"calibration_date\", StringType(), True),\n",
        "        StructField(\"manufacturer\", StringType(), True),\n",
        "        StructField(\"model\", StringType(), True),\n",
        "        StructField(\"serial_number\", StringType(), True)\n",
        "    ]), True),\n",
        "    StructField(\"power_consumption\", LongType(), True),\n",
        "    StructField(\"pressure\", DoubleType(), True),\n",
        "    StructField(\"reading\", StringType(), True),\n",
        "    StructField(\"sensor_id\", StringType(), True),\n",
        "    StructField(\"sensor_type\", StringType(), True),\n",
        "    StructField(\"status\", StringType(), True),\n",
        "    StructField(\"timestamp\", TimestampType(), True),\n",
        "    StructField(\"unit\", StringType(), True),\n",
        "    StructField(\"vibration_intensity\", DoubleType(), True)\n",
        "])\n"
      ]
    },
    {
      "cell_type": "code",
      "execution_count": 184,
      "metadata": {
        "jupyter": {
          "outputs_hidden": false,
          "source_hidden": false
        },
        "nteract": {
          "transient": {
            "deleting": false
          }
        }
      },
      "outputs": [
        {
          "data": {
            "application/vnd.livy.statement-meta+json": {
              "execution_finish_time": "2023-06-04T17:46:39.24073Z",
              "execution_start_time": "2023-06-04T17:46:39.0856181Z",
              "livy_statement_state": "available",
              "parent_msg_id": "0806d308-ecba-48c5-bff5-48cec5a8980c",
              "queued_time": "2023-06-04T17:46:37.1414357Z",
              "session_id": "1",
              "session_start_time": null,
              "spark_jobs": null,
              "spark_pool": "vgsparkpool",
              "state": "finished",
              "statement_id": 185
            },
            "text/plain": [
              "StatementMeta(vgsparkpool, 1, 185, Finished, Available)"
            ]
          },
          "metadata": {},
          "output_type": "display_data"
        }
      ],
      "source": [
        "structured_df = df.select(\n",
        "    df[\"concentration\"].cast(DoubleType()),\n",
        "    df[\"gas_type\"],\n",
        "    df[\"light_intensity\"].cast(LongType()),\n",
        "    df[\"location\"],\n",
        "    df[\"metadata\"],\n",
        "    df[\"power_consumption\"].cast(LongType()),\n",
        "    df[\"pressure\"].cast(DoubleType()),\n",
        "    df[\"reading\"],\n",
        "    df[\"sensor_id\"],\n",
        "    df[\"sensor_type\"],\n",
        "    df[\"status\"],\n",
        "    df[\"timestamp\"].cast(TimestampType()),\n",
        "    df[\"unit\"],\n",
        "    df[\"vibration_intensity\"].cast(DoubleType())\n",
        ")\n"
      ]
    },
    {
      "cell_type": "code",
      "execution_count": 186,
      "metadata": {
        "collapsed": false,
        "jupyter": {
          "outputs_hidden": false,
          "source_hidden": false
        },
        "nteract": {
          "transient": {
            "deleting": false
          }
        }
      },
      "outputs": [
        {
          "data": {
            "application/vnd.livy.statement-meta+json": {
              "execution_finish_time": "2023-06-04T17:46:40.3216735Z",
              "execution_start_time": "2023-06-04T17:46:40.159148Z",
              "livy_statement_state": "available",
              "parent_msg_id": "298a27b2-11f4-4958-866b-39f2a6e2fe3b",
              "queued_time": "2023-06-04T17:46:38.7366101Z",
              "session_id": "1",
              "session_start_time": null,
              "spark_jobs": null,
              "spark_pool": "vgsparkpool",
              "state": "finished",
              "statement_id": 187
            },
            "text/plain": [
              "StatementMeta(vgsparkpool, 1, 187, Finished, Available)"
            ]
          },
          "metadata": {},
          "output_type": "display_data"
        }
      ],
      "source": [
        "from pyspark.sql.functions import col\n",
        "\n",
        "# Selecting all columns and expanding the metadata struct\n",
        "expanded_df = df.select(\n",
        "    \"*\",\n",
        "    col(\"metadata.calibration_date\").alias(\"calibration_date\"),\n",
        "    col(\"metadata.manufacturer\").alias(\"manufacturer\"),\n",
        "    col(\"metadata.model\").alias(\"model\"),\n",
        "    col(\"metadata.serial_number\").alias(\"serial_number\")\n",
        ")\n",
        "\n",
        "# Dropping the original metadata column\n",
        "expanded_df = expanded_df.drop(\"metadata\")"
      ]
    },
    {
      "cell_type": "code",
      "execution_count": 187,
      "metadata": {
        "collapsed": false,
        "jupyter": {
          "outputs_hidden": false,
          "source_hidden": false
        },
        "nteract": {
          "transient": {
            "deleting": false
          }
        }
      },
      "outputs": [
        {
          "data": {
            "application/vnd.livy.statement-meta+json": {
              "execution_finish_time": "2023-06-04T17:46:41.0548142Z",
              "execution_start_time": "2023-06-04T17:46:40.489435Z",
              "livy_statement_state": "available",
              "parent_msg_id": "02d223f2-fe65-4a0d-934b-b282765cf559",
              "queued_time": "2023-06-04T17:46:38.8462965Z",
              "session_id": "1",
              "session_start_time": null,
              "spark_jobs": null,
              "spark_pool": "vgsparkpool",
              "state": "finished",
              "statement_id": 188
            },
            "text/plain": [
              "StatementMeta(vgsparkpool, 1, 188, Finished, Available)"
            ]
          },
          "metadata": {},
          "output_type": "display_data"
        },
        {
          "data": {
            "application/vnd.synapse.widget-view+json": {
              "widget_id": "87a97b63-a9e7-4b57-ad83-80c65c974ac2",
              "widget_type": "Synapse.DataFrame"
            },
            "text/plain": [
              "SynapseWidget(Synapse.DataFrame, 87a97b63-a9e7-4b57-ad83-80c65c974ac2)"
            ]
          },
          "metadata": {},
          "output_type": "display_data"
        }
      ],
      "source": [
        "#To sort the columns in the database\n",
        "column_order = [\n",
        "    \"sensor_id\",\n",
        "    \"sensor_type\",\n",
        "    \"location\",\n",
        "    \"timestamp\",\n",
        "    \"reading\",\n",
        "    \"unit\",\n",
        "    \"concentration\",\n",
        "    \"gas_type\",\n",
        "    \"light_intensity\",\n",
        "    \"power_consumption\",\n",
        "    \"pressure\",\n",
        "    \"status\",\n",
        "    \"vibration_intensity\" ,\n",
        "    \"calibration_date\", \n",
        "    \"manufacturer\",\n",
        "     \"model\",\n",
        "      \"serial_number\"\n",
        "]\n",
        "\n",
        "# Selecting columns in the specified order\n",
        "arranged_df = expanded_df.select(column_order)\n",
        "display(arranged_df)"
      ]
    },
    {
      "cell_type": "code",
      "execution_count": 188,
      "metadata": {
        "collapsed": false,
        "jupyter": {
          "outputs_hidden": false,
          "source_hidden": false
        },
        "nteract": {
          "transient": {
            "deleting": false
          }
        }
      },
      "outputs": [
        {
          "data": {
            "application/vnd.livy.statement-meta+json": {
              "execution_finish_time": "2023-06-04T17:46:44.2127828Z",
              "execution_start_time": "2023-06-04T17:46:41.2529979Z",
              "livy_statement_state": "available",
              "parent_msg_id": "c938f0d5-c88a-42ef-aeff-ca5dfc649ec3",
              "queued_time": "2023-06-04T17:46:38.8709312Z",
              "session_id": "1",
              "session_start_time": null,
              "spark_jobs": null,
              "spark_pool": "vgsparkpool",
              "state": "finished",
              "statement_id": 189
            },
            "text/plain": [
              "StatementMeta(vgsparkpool, 1, 189, Finished, Available)"
            ]
          },
          "metadata": {},
          "output_type": "display_data"
        },
        {
          "data": {
            "application/vnd.synapse.widget-view+json": {
              "widget_id": "ec48bbb6-6019-4433-a909-071077dbf70a",
              "widget_type": "Synapse.DataFrame"
            },
            "text/plain": [
              "SynapseWidget(Synapse.DataFrame, ec48bbb6-6019-4433-a909-071077dbf70a)"
            ]
          },
          "metadata": {},
          "output_type": "display_data"
        }
      ],
      "source": [
        "# Separating the DataFrame based on sensor types\n",
        "\n",
        "\n",
        "temperature_df = arranged_df.filter(arranged_df[\"sensor_type\"] == \"temperature\")\n",
        "# Remove columns with all rows as undefined in the temperature DataFrame\n",
        "columns_to_drop = [col_name for col_name in temperature_df.columns if temperature_df.filter((col(col_name) != \"undefined\") & (col(col_name) != \"\")).count() == 0]\n",
        "temperature_df = temperature_df.drop(*columns_to_drop)\n",
        "# Show the contents of the temperature DataFrame\n",
        "display(temperature_df)"
      ]
    },
    {
      "cell_type": "code",
      "execution_count": 189,
      "metadata": {
        "collapsed": false,
        "jupyter": {
          "outputs_hidden": false,
          "source_hidden": false
        },
        "nteract": {
          "transient": {
            "deleting": false
          }
        }
      },
      "outputs": [
        {
          "data": {
            "application/vnd.livy.statement-meta+json": {
              "execution_finish_time": "2023-06-04T17:46:47.3051296Z",
              "execution_start_time": "2023-06-04T17:46:44.3882723Z",
              "livy_statement_state": "available",
              "parent_msg_id": "3ca35da8-3909-4924-afe7-8ed86bc710fa",
              "queued_time": "2023-06-04T17:46:38.9360624Z",
              "session_id": "1",
              "session_start_time": null,
              "spark_jobs": null,
              "spark_pool": "vgsparkpool",
              "state": "finished",
              "statement_id": 190
            },
            "text/plain": [
              "StatementMeta(vgsparkpool, 1, 190, Finished, Available)"
            ]
          },
          "metadata": {},
          "output_type": "display_data"
        },
        {
          "data": {
            "application/vnd.synapse.widget-view+json": {
              "widget_id": "59360ac0-1dc5-4ca1-9f80-9a7b547d2eb4",
              "widget_type": "Synapse.DataFrame"
            },
            "text/plain": [
              "SynapseWidget(Synapse.DataFrame, 59360ac0-1dc5-4ca1-9f80-9a7b547d2eb4)"
            ]
          },
          "metadata": {},
          "output_type": "display_data"
        }
      ],
      "source": [
        "humidity_df = arranged_df.filter(arranged_df[\"sensor_type\"] == \"humidity\")\n",
        "# Remove columns with all rows as undefined in the humidity DataFrame\n",
        "columns_to_drop = [col_name for col_name in humidity_df.columns if humidity_df.filter((col(col_name) != \"undefined\") & (col(col_name) != \"\")).count() == 0]\n",
        "humidity_df = humidity_df.drop(*columns_to_drop)\n",
        "# Show the contents of the humidity DataFrame\n",
        "display(humidity_df)"
      ]
    },
    {
      "cell_type": "code",
      "execution_count": 190,
      "metadata": {
        "collapsed": false,
        "jupyter": {
          "outputs_hidden": false,
          "source_hidden": false
        },
        "nteract": {
          "transient": {
            "deleting": false
          }
        }
      },
      "outputs": [
        {
          "data": {
            "application/vnd.livy.statement-meta+json": {
              "execution_finish_time": "2023-06-04T17:46:50.3711709Z",
              "execution_start_time": "2023-06-04T17:46:47.4616363Z",
              "livy_statement_state": "available",
              "parent_msg_id": "8d95a93e-4ce5-431b-ac12-e1cba10a50c6",
              "queued_time": "2023-06-04T17:46:38.9864623Z",
              "session_id": "1",
              "session_start_time": null,
              "spark_jobs": null,
              "spark_pool": "vgsparkpool",
              "state": "finished",
              "statement_id": 191
            },
            "text/plain": [
              "StatementMeta(vgsparkpool, 1, 191, Finished, Available)"
            ]
          },
          "metadata": {},
          "output_type": "display_data"
        },
        {
          "data": {
            "application/vnd.synapse.widget-view+json": {
              "widget_id": "1dc3a7a5-e2bd-4278-b8c7-7ab77ec9bd1e",
              "widget_type": "Synapse.DataFrame"
            },
            "text/plain": [
              "SynapseWidget(Synapse.DataFrame, 1dc3a7a5-e2bd-4278-b8c7-7ab77ec9bd1e)"
            ]
          },
          "metadata": {},
          "output_type": "display_data"
        }
      ],
      "source": [
        "pressure_df = arranged_df.filter(arranged_df[\"sensor_type\"] == \"pressure\")\n",
        "# Remove columns with all rows as undefined in the pressure DataFrame\n",
        "columns_to_drop = [col_name for col_name in pressure_df.columns if pressure_df.filter((col(col_name) != \"undefined\") & (col(col_name) != \"\")).count() == 0]\n",
        "pressure_df = pressure_df.drop(*columns_to_drop)\n",
        "# Show the contents of the pressure DataFrame\n",
        "display(pressure_df)"
      ]
    },
    {
      "cell_type": "code",
      "execution_count": 191,
      "metadata": {
        "jupyter": {
          "outputs_hidden": false,
          "source_hidden": false
        },
        "nteract": {
          "transient": {
            "deleting": false
          }
        }
      },
      "outputs": [
        {
          "data": {
            "application/vnd.livy.statement-meta+json": {
              "execution_finish_time": "2023-06-04T17:46:53.3607282Z",
              "execution_start_time": "2023-06-04T17:46:50.5303277Z",
              "livy_statement_state": "available",
              "parent_msg_id": "61f27062-8e89-4ef0-ab70-924f153f26fd",
              "queued_time": "2023-06-04T17:46:39.0410117Z",
              "session_id": "1",
              "session_start_time": null,
              "spark_jobs": null,
              "spark_pool": "vgsparkpool",
              "state": "finished",
              "statement_id": 192
            },
            "text/plain": [
              "StatementMeta(vgsparkpool, 1, 192, Finished, Available)"
            ]
          },
          "metadata": {},
          "output_type": "display_data"
        }
      ],
      "source": [
        "temperature_df.write.csv(\"abfss://vgdlg2container@vgdlg2.dfs.core.windows.net/temperature_data.csv\", header=True, mode=\"overwrite\")\n",
        "humidity_df.write.csv(\"abfss://vgdlg2container@vgdlg2.dfs.core.windows.net/humidity_data.csv\", header=True, mode=\"overwrite\")\n",
        "pressure_df.write.csv(\"abfss://vgdlg2container@vgdlg2.dfs.core.windows.net/pressure_data.csv\", header=True, mode=\"overwrite\")"
      ]
    }
  ],
  "metadata": {
    "description": null,
    "kernelspec": {
      "display_name": "Synapse PySpark",
      "name": "synapse_pyspark"
    },
    "language_info": {
      "name": "python"
    },
    "save_output": true,
    "synapse_widget": {
      "state": {
        "16a87480-caee-43da-b671-3fdb8ffced99": {
          "persist_state": {
            "view": {
              "chartOptions": {
                "aggregationType": "sum",
                "categoryFieldKeys": [
                  "1"
                ],
                "chartType": "bar",
                "isStacked": false,
                "seriesFieldKeys": [
                  "0"
                ]
              },
              "tableOptions": {},
              "type": "details"
            }
          },
          "sync_state": {
            "isSummary": false,
            "language": "scala",
            "table": {
              "rows": [
                {
                  "3": "Warehouse A",
                  "4": {
                    "calibration_date": "2023-01-15",
                    "manufacturer": "ABC Sensors Inc.",
                    "model": "TS200",
                    "serial_number": "12345"
                  },
                  "7": "25.5",
                  "8": "S001",
                  "9": "temperature",
                  "11": "2023-06-04T09:30:00Z",
                  "12": "Celsius"
                },
                {
                  "3": "Warehouse B",
                  "4": {
                    "calibration_date": "2023-02-20",
                    "manufacturer": "XYZ Sensors Corp.",
                    "model": "HUM123",
                    "serial_number": "67890"
                  },
                  "7": "60.2",
                  "8": "S002",
                  "9": "humidity",
                  "11": "2023-06-04T10:15:00Z",
                  "12": "%"
                },
                {
                  "3": "Production Line 1",
                  "4": {
                    "calibration_date": "2023-03-10",
                    "manufacturer": "PharmaSense Ltd.",
                    "model": "PRS456",
                    "serial_number": "54321"
                  },
                  "7": "101.2",
                  "8": "S003",
                  "9": "pressure",
                  "11": "2023-06-04T11:00:00Z",
                  "12": "kPa"
                },
                {
                  "3": "Packaging Area",
                  "4": {
                    "calibration_date": "2023-04-05",
                    "manufacturer": "SensorTech Inc.",
                    "model": "VIB789",
                    "serial_number": "98765"
                  },
                  "7": "0.8",
                  "8": "S004",
                  "9": "vibration",
                  "11": "2023-06-04T11:45:00Z",
                  "12": "mm/s"
                },
                {
                  "3": "Laboratory",
                  "4": {
                    "calibration_date": "2023-05-01",
                    "manufacturer": "AirSense Systems",
                    "model": "AQ2000",
                    "serial_number": "24680"
                  },
                  "7": "18.5",
                  "8": "S005",
                  "9": "air_quality",
                  "11": "2023-06-04T12:30:00Z",
                  "12": "ppm"
                },
                {
                  "3": "Cleanroom",
                  "4": {
                    "calibration_date": "2023-05-15",
                    "manufacturer": "LightTech Solutions",
                    "model": "LT100",
                    "serial_number": "13579"
                  },
                  "7": "800",
                  "8": "S006",
                  "9": "light",
                  "11": "2023-06-04T13:15:00Z",
                  "12": "lux"
                },
                {
                  "3": "Storage Area",
                  "4": {
                    "calibration_date": "2023-06-02",
                    "manufacturer": "GasSense Inc.",
                    "model": "GS500",
                    "serial_number": "97531"
                  },
                  "7": "12.3",
                  "8": "S007",
                  "9": "gas",
                  "11": "2023-06-04T14:00:00Z",
                  "12": "ppm"
                },
                {
                  "3": "Equipment Room",
                  "4": {
                    "calibration_date": "2023-05-20",
                    "manufacturer": "PowerSense Technologies",
                    "model": "PW5000",
                    "serial_number": "24680"
                  },
                  "7": "1500",
                  "8": "S008",
                  "9": "power",
                  "11": "2023-06-04T14:45:00Z",
                  "12": "Watts"
                },
                {
                  "3": "Warehouse C",
                  "4": {
                    "calibration_date": "2023-03-25",
                    "manufacturer": "HumidSense Corp.",
                    "model": "HM200",
                    "serial_number": "80246"
                  },
                  "7": "62.8",
                  "8": "S009",
                  "9": "humidity",
                  "11": "2023-06-04T15:30:00Z",
                  "12": "%"
                },
                {
                  "3": "Refrigeration Room",
                  "4": {
                    "calibration_date": "2023-01-30",
                    "manufacturer": "CoolSense Inc.",
                    "model": "CT2000",
                    "serial_number": "24680"
                  },
                  "7": "-15.2",
                  "8": "S010",
                  "9": "temperature",
                  "11": "2023-06-04T16:15:00Z",
                  "12": "Celsius"
                },
                {
                  "3": "Cleanroom",
                  "4": {
                    "calibration_date": "2023-02-28",
                    "manufacturer": "PressureTech Inc.",
                    "model": "PT300",
                    "serial_number": "97531"
                  },
                  "7": "100.5",
                  "8": "S011",
                  "9": "pressure",
                  "11": "2023-06-04T17:00:00Z",
                  "12": "kPa"
                },
                {
                  "3": "Production Line 1",
                  "4": {
                    "calibration_date": "2023-04-15",
                    "manufacturer": "VibraSense Technologies",
                    "model": "VB1000",
                    "serial_number": "80246"
                  },
                  "7": "0.025",
                  "8": "S012",
                  "9": "vibration",
                  "11": "2023-06-04T17:45:00Z",
                  "12": "mm/s"
                },
                {
                  "3": "Laboratory",
                  "4": {
                    "calibration_date": "2023-05-05",
                    "manufacturer": "GasTech Solutions",
                    "model": "GT200",
                    "serial_number": "24680"
                  },
                  "7": "8.7",
                  "8": "S013",
                  "9": "gas",
                  "11": "2023-06-04T18:30:00Z",
                  "12": "ppm"
                },
                {
                  "3": "Warehouse B",
                  "4": {
                    "calibration_date": "2023-03-10",
                    "manufacturer": "HumidTech Corp.",
                    "model": "HT500",
                    "serial_number": "13579"
                  },
                  "7": "55.2",
                  "8": "S014",
                  "9": "humidity",
                  "11": "2023-06-04T19:15:00Z",
                  "12": "%"
                },
                {
                  "3": "Storage Area",
                  "4": {
                    "calibration_date": "2023-01-05",
                    "manufacturer": "TempSense Inc.",
                    "model": "TM100",
                    "serial_number": "24680"
                  },
                  "7": "18.9",
                  "8": "S015",
                  "9": "temperature",
                  "11": "2023-06-04T20:00:00Z",
                  "12": "Celsius"
                },
                {
                  "3": "Cleanroom",
                  "4": {
                    "calibration_date": "2023-05-20",
                    "manufacturer": "LightTech Solutions",
                    "model": "LT200",
                    "serial_number": "97531"
                  },
                  "7": "500",
                  "8": "S016",
                  "9": "light",
                  "11": "2023-06-04T20:45:00Z",
                  "12": "lux"
                },
                {
                  "3": "Production Line 2",
                  "4": {
                    "calibration_date": "2023-04-02",
                    "manufacturer": "AcousticTech Inc.",
                    "model": "AS300",
                    "serial_number": "80246"
                  },
                  "7": "65.3",
                  "8": "S018",
                  "9": "sound",
                  "11": "2023-06-04T22:15:00Z",
                  "12": "dB"
                },
                {
                  "3": "Laboratory",
                  "4": {
                    "calibration_date": "2023-03-25",
                    "manufacturer": "HumidSense Corp.",
                    "model": "HS500",
                    "serial_number": "13579"
                  },
                  "7": "62.7",
                  "8": "S019",
                  "9": "humidity",
                  "11": "2023-06-04T23:00:00Z",
                  "12": "%"
                },
                {
                  "3": "Warehouse C",
                  "4": {
                    "calibration_date": "2023-02-10",
                    "manufacturer": "PressureSense Ltd.",
                    "model": "PS400",
                    "serial_number": "24680"
                  },
                  "7": "98.2",
                  "8": "S020",
                  "9": "pressure",
                  "11": "2023-06-04T23:45:00Z",
                  "12": "kPa"
                },
                {
                  "3": "Storage Area",
                  "4": {
                    "calibration_date": "2023-05-15",
                    "manufacturer": "GasSense Inc.",
                    "model": "GS300",
                    "serial_number": "97531"
                  },
                  "7": "12.4",
                  "8": "S021",
                  "9": "gas",
                  "11": "2023-06-05T00:30:00Z",
                  "12": "ppm"
                },
                {
                  "3": "Cleanroom",
                  "4": {
                    "calibration_date": "2023-01-30",
                    "manufacturer": "TempTech Solutions",
                    "model": "TT400",
                    "serial_number": "80246"
                  },
                  "7": "23.1",
                  "8": "S022",
                  "9": "temperature",
                  "11": "2023-06-05T01:15:00Z",
                  "12": "Celsius"
                },
                {
                  "3": "Manufacturing Area",
                  "4": {
                    "calibration_date": "2023-02-22",
                    "manufacturer": "VibraSense Inc.",
                    "model": "VB200",
                    "serial_number": "75309"
                  },
                  "7": "0.32",
                  "8": "S023",
                  "9": "vibration",
                  "11": "2023-06-05T02:00:00Z",
                  "12": "g"
                },
                {
                  "3": "Warehouse B",
                  "4": {
                    "calibration_date": "2023-03-10",
                    "manufacturer": "LuminTech Corp.",
                    "model": "LT600",
                    "serial_number": "46820"
                  },
                  "7": "420",
                  "8": "S024",
                  "9": "light",
                  "11": "2023-06-05T02:45:00Z",
                  "12": "lux"
                },
                {
                  "3": "Office Area",
                  "4": {
                    "calibration_date": "2023-01-05",
                    "manufacturer": "AirSense Systems",
                    "model": "AS800",
                    "serial_number": "90257"
                  },
                  "7": "{\"CO2\":800,\"PM2.5\":20}",
                  "8": "S025",
                  "9": "air_quality",
                  "11": "2023-06-05T03:30:00Z",
                  "12": "{\"CO2\":\"ppm\",\"PM2.5\":\"µg/m³\"}"
                },
                {
                  "3": "Laboratory",
                  "4": {
                    "calibration_date": "2023-03-25",
                    "manufacturer": "HumidSense Corp.",
                    "model": "HS500",
                    "serial_number": "13579"
                  },
                  "7": "59.8",
                  "8": "S026",
                  "9": "humidity",
                  "11": "2023-06-05T04:15:00Z",
                  "12": "%"
                },
                {
                  "3": "Storage Room",
                  "4": {
                    "calibration_date": "2023-01-30",
                    "manufacturer": "TempTech Solutions",
                    "model": "TT400",
                    "serial_number": "80246"
                  },
                  "7": "21.8",
                  "8": "S027",
                  "9": "temperature",
                  "11": "2023-06-05T05:00:00Z",
                  "12": "Celsius"
                },
                {
                  "3": "Production Line",
                  "4": {
                    "calibration_date": "2023-02-18",
                    "manufacturer": "PressureTech Inc.",
                    "model": "PT300",
                    "serial_number": "62105"
                  },
                  "7": "5.2",
                  "8": "S028",
                  "9": "pressure",
                  "11": "2023-06-05T05:45:00Z",
                  "12": "bar"
                },
                {
                  "3": "Quality Control Lab",
                  "4": {
                    "calibration_date": "2023-03-05",
                    "manufacturer": "AcoustiSense Corp.",
                    "model": "AS700",
                    "serial_number": "95231"
                  },
                  "7": "68.5",
                  "8": "S029",
                  "9": "sound",
                  "11": "2023-06-05T06:30:00Z",
                  "12": "dB"
                },
                {
                  "3": "Clean Room",
                  "4": {
                    "calibration_date": "2023-01-30",
                    "manufacturer": "HumidSense Corp.",
                    "model": "HS500",
                    "serial_number": "80246"
                  },
                  "7": "52.3",
                  "8": "S030",
                  "9": "humidity",
                  "11": "2023-06-05T07:15:00Z",
                  "12": "%"
                },
                {
                  "3": "Storage Room",
                  "4": {
                    "calibration_date": "2023-01-30",
                    "manufacturer": "TempTech Solutions",
                    "model": "TT400",
                    "serial_number": "80246"
                  },
                  "7": "21.5",
                  "8": "S031",
                  "9": "temperature",
                  "11": "2023-06-05T08:00:00Z",
                  "12": "Celsius"
                },
                {
                  "3": "Warehouse C",
                  "4": {
                    "calibration_date": "2023-02-05",
                    "manufacturer": "MotionSense Inc.",
                    "model": "MS100",
                    "serial_number": "71839"
                  },
                  "8": "S032",
                  "9": "motion",
                  "10": "detected",
                  "11": "2023-06-05T08:45:00Z"
                },
                {
                  "3": "Production Line",
                  "4": {
                    "calibration_date": "2023-03-15",
                    "manufacturer": "VibroTech Solutions",
                    "model": "VT2000",
                    "serial_number": "54892"
                  },
                  "7": "3.8",
                  "8": "S033",
                  "9": "vibration",
                  "11": "2023-06-05T09:30:00Z",
                  "12": "mm/s"
                },
                {
                  "1": "CO2",
                  "3": "Storage Facility",
                  "4": {
                    "calibration_date": "2023-02-28",
                    "manufacturer": "GasSense Inc.",
                    "model": "GS500",
                    "serial_number": "72019"
                  },
                  "7": "800",
                  "8": "S034",
                  "9": "gas",
                  "11": "2023-06-05T10:15:00Z",
                  "12": "ppm"
                },
                {
                  "3": "Clean Room",
                  "4": {
                    "calibration_date": "2023-02-10",
                    "manufacturer": "LightTech Corp.",
                    "model": "LT600",
                    "serial_number": "92654"
                  },
                  "7": "450",
                  "8": "S035",
                  "9": "light",
                  "11": "2023-06-05T11:00:00Z",
                  "12": "lux"
                },
                {
                  "3": "Production Line",
                  "4": {
                    "calibration_date": "2023-02-25",
                    "manufacturer": "PressureSense Corp.",
                    "model": "PS400",
                    "serial_number": "63218"
                  },
                  "7": "4.7",
                  "8": "S036",
                  "9": "pressure",
                  "11": "2023-06-05T11:45:00Z",
                  "12": "bar"
                },
                {
                  "3": "Warehouse B",
                  "4": {
                    "calibration_date": "2023-03-10",
                    "manufacturer": "TempSense Solutions",
                    "model": "TS700",
                    "serial_number": "48017"
                  },
                  "7": "22.8",
                  "8": "S037",
                  "9": "temperature",
                  "11": "2023-06-05T12:30:00Z",
                  "12": "Celsius"
                },
                {
                  "3": "Storage Room",
                  "4": {
                    "calibration_date": "2023-03-20",
                    "manufacturer": "HumidSense Inc.",
                    "model": "HM300",
                    "serial_number": "98263"
                  },
                  "7": "65.2",
                  "8": "S038",
                  "9": "humidity",
                  "11": "2023-06-05T13:15:00Z",
                  "12": "%"
                },
                {
                  "3": "Lab A",
                  "4": {
                    "calibration_date": "2023-04-05",
                    "manufacturer": "AudioTech Solutions",
                    "model": "AT2000",
                    "serial_number": "72496"
                  },
                  "7": "68.5",
                  "8": "S039",
                  "9": "sound",
                  "11": "2023-06-05T14:00:00Z",
                  "12": "dB"
                },
                {
                  "3": "Packaging Area",
                  "4": {
                    "calibration_date": "2023-03-15",
                    "manufacturer": "WeightTech Corp.",
                    "model": "WT500",
                    "serial_number": "39571"
                  },
                  "7": "12.3",
                  "8": "S040",
                  "9": "weight",
                  "11": "2023-06-05T14:45:00Z",
                  "12": "kg"
                },
                {
                  "3": "Production Line",
                  "4": {
                    "calibration_date": "2023-02-28",
                    "manufacturer": "VibroTech Solutions",
                    "model": "VT2000",
                    "serial_number": "80123"
                  },
                  "7": "4.2",
                  "8": "S041",
                  "9": "vibration",
                  "11": "2023-06-05T15:30:00Z",
                  "12": "mm/s"
                },
                {
                  "1": "CO2",
                  "3": "Storage Facility",
                  "4": {
                    "calibration_date": "2023-02-15",
                    "manufacturer": "GasSense Inc.",
                    "model": "GS500",
                    "serial_number": "63057"
                  },
                  "7": "820",
                  "8": "S042",
                  "9": "gas",
                  "11": "2023-06-05T16:15:00Z",
                  "12": "ppm"
                },
                {
                  "3": "Clean Room",
                  "4": {
                    "calibration_date": "2023-01-10",
                    "manufacturer": "PressureTech Inc.",
                    "model": "PT1000",
                    "serial_number": "48921"
                  },
                  "7": "1023.5",
                  "8": "S043",
                  "9": "pressure",
                  "11": "2023-06-05T17:00:00Z",
                  "12": "hPa"
                },
                {
                  "3": "Research Lab",
                  "4": {
                    "calibration_date": "2023-02-05",
                    "manufacturer": "LumosTech Solutions",
                    "model": "LT500",
                    "serial_number": "93624"
                  },
                  "7": "550",
                  "8": "S044",
                  "9": "light",
                  "11": "2023-06-05T17:45:00Z",
                  "12": "lux"
                },
                {
                  "3": "Warehouse B",
                  "4": {
                    "calibration_date": "2023-03-12",
                    "manufacturer": "ProxiSense Inc.",
                    "model": "PX200",
                    "serial_number": "74258"
                  },
                  "8": "S045",
                  "9": "proximity",
                  "10": "occupied",
                  "11": "2023-06-05T18:30:00Z"
                },
                {
                  "3": "Processing Plant",
                  "4": {
                    "calibration_date": "2023-02-22",
                    "manufacturer": "FlowTech Systems",
                    "model": "FT100",
                    "serial_number": "57132"
                  },
                  "7": "8.5",
                  "8": "S046",
                  "9": "flow",
                  "11": "2023-06-05T19:15:00Z",
                  "12": "m³/h"
                },
                {
                  "3": "Storage Room",
                  "4": {
                    "calibration_date": "2023-03-20",
                    "manufacturer": "HumidSense Inc.",
                    "model": "HM300",
                    "serial_number": "28714"
                  },
                  "7": "62.8",
                  "8": "S047",
                  "9": "humidity",
                  "11": "2023-06-05T20:00:00Z",
                  "12": "%"
                },
                {
                  "3": "Manufacturing Line",
                  "4": {
                    "calibration_date": "2023-04-02",
                    "manufacturer": "VibroTech Solutions",
                    "model": "VT900",
                    "serial_number": "83957"
                  },
                  "8": "S048",
                  "9": "vibration",
                  "11": "2023-06-05T20:45:00Z",
                  "12": "g",
                  "13": "0.75"
                },
                {
                  "0": "18.5",
                  "1": "Oxygen",
                  "3": "Filling Station",
                  "4": {
                    "calibration_date": "2023-03-28",
                    "manufacturer": "GasSense Inc.",
                    "model": "GS200",
                    "serial_number": "62571"
                  },
                  "8": "S049",
                  "9": "gas",
                  "11": "2023-06-05T21:30:00Z",
                  "12": "%"
                },
                {
                  "3": "Control Room",
                  "4": {
                    "calibration_date": "2023-02-18",
                    "manufacturer": "PowerTech Systems",
                    "model": "PT2000",
                    "serial_number": "42789"
                  },
                  "5": "1250",
                  "8": "S050",
                  "9": "power",
                  "11": "2023-06-05T22:15:00Z",
                  "12": "Watt"
                },
                {
                  "3": "Packaging Area",
                  "4": {
                    "calibration_date": "2023-03-20",
                    "manufacturer": "HumidSense Inc.",
                    "model": "HM300",
                    "serial_number": "28714"
                  },
                  "7": "55.2",
                  "8": "S051",
                  "9": "humidity",
                  "11": "2023-06-05T23:00:00Z",
                  "12": "%"
                },
                {
                  "3": "Cold Storage",
                  "4": {
                    "calibration_date": "2023-01-05",
                    "manufacturer": "ColdTech Systems",
                    "model": "CT500",
                    "serial_number": "21596"
                  },
                  "7": "-10.2",
                  "8": "S052",
                  "9": "temperature",
                  "11": "2023-06-05T23:45:00Z",
                  "12": "Celsius"
                },
                {
                  "3": "Clean Room",
                  "4": {
                    "calibration_date": "2023-02-28",
                    "manufacturer": "PressureTech Inc.",
                    "model": "PT100",
                    "serial_number": "93210"
                  },
                  "6": "101.2",
                  "8": "S053",
                  "9": "pressure",
                  "11": "2023-06-06T00:30:00Z",
                  "12": "kPa"
                },
                {
                  "2": "850",
                  "3": "Laboratory",
                  "4": {
                    "calibration_date": "2023-03-15",
                    "manufacturer": "Lumos Technologies",
                    "model": "LT450",
                    "serial_number": "76429"
                  },
                  "8": "S054",
                  "9": "light",
                  "11": "2023-06-06T01:15:00Z",
                  "12": "Lux"
                },
                {
                  "3": "Incubator",
                  "4": {
                    "calibration_date": "2023-03-20",
                    "manufacturer": "HumidSense Inc.",
                    "model": "HM300",
                    "serial_number": "28714"
                  },
                  "7": "70.5",
                  "8": "S055",
                  "9": "humidity",
                  "11": "2023-06-06T02:00:00Z",
                  "12": "%"
                },
                {
                  "3": "Packing Line",
                  "4": {
                    "calibration_date": "2023-04-02",
                    "manufacturer": "VibroTech Solutions",
                    "model": "VT900",
                    "serial_number": "83957"
                  },
                  "8": "S056",
                  "9": "vibration",
                  "11": "2023-06-06T02:45:00Z",
                  "12": "g",
                  "13": "0.62"
                },
                {
                  "3": "Freezer",
                  "4": {
                    "calibration_date": "2023-01-05",
                    "manufacturer": "ColdTech Systems",
                    "model": "CT500",
                    "serial_number": "21596"
                  },
                  "7": "-20.5",
                  "8": "S057",
                  "9": "temperature",
                  "11": "2023-06-06T03:30:00Z",
                  "12": "Celsius"
                },
                {
                  "0": "3.2",
                  "1": "Carbon Dioxide",
                  "3": "Storage Room",
                  "4": {
                    "calibration_date": "2023-03-28",
                    "manufacturer": "GasSense Inc.",
                    "model": "GS200",
                    "serial_number": "62571"
                  },
                  "8": "S058",
                  "9": "gas",
                  "11": "2023-06-06T04:15:00Z",
                  "12": "%"
                },
                {
                  "3": "Storage Room",
                  "4": {
                    "calibration_date": "2023-02-10",
                    "manufacturer": "TempSense Inc.",
                    "model": "TS300",
                    "serial_number": "48632"
                  },
                  "7": "18.7",
                  "8": "S059",
                  "9": "temperature",
                  "11": "2023-06-06T05:00:00Z",
                  "12": "Celsius"
                },
                {
                  "3": "Laboratory",
                  "4": {
                    "calibration_date": "2023-03-18",
                    "manufacturer": "HumidTech Solutions",
                    "model": "HT400",
                    "serial_number": "75420"
                  },
                  "7": "63.2",
                  "8": "S060",
                  "9": "humidity",
                  "11": "2023-06-06T05:45:00Z",
                  "12": "%"
                },
                {
                  "3": "Clean Room",
                  "4": {
                    "calibration_date": "2023-01-25",
                    "manufacturer": "PressureSolutions",
                    "model": "PS150",
                    "serial_number": "91348"
                  },
                  "6": "99.8",
                  "8": "S061",
                  "9": "pressure",
                  "11": "2023-06-06T06:30:00Z",
                  "12": "kPa"
                },
                {
                  "2": "650",
                  "3": "Warehouse B",
                  "4": {
                    "calibration_date": "2023-03-10",
                    "manufacturer": "Luminous Corp.",
                    "model": "LU700",
                    "serial_number": "63241"
                  },
                  "8": "S062",
                  "9": "light",
                  "11": "2023-06-06T07:15:00Z",
                  "12": "Lux"
                },
                {
                  "3": "Production Line",
                  "4": {
                    "calibration_date": "2023-04-05",
                    "manufacturer": "VibeSense Inc.",
                    "model": "VB100",
                    "serial_number": "75194"
                  },
                  "8": "S063",
                  "9": "vibration",
                  "11": "2023-06-06T08:00:00Z",
                  "12": "g",
                  "13": "0.42"
                },
                {
                  "0": "1.8",
                  "1": "Ammonia",
                  "3": "Lab Storage",
                  "4": {
                    "calibration_date": "2023-03-22",
                    "manufacturer": "GasTech Systems",
                    "model": "GT300",
                    "serial_number": "52879"
                  },
                  "8": "S064",
                  "9": "gas",
                  "11": "2023-06-06T08:45:00Z",
                  "12": "%"
                },
                {
                  "3": "Refrigerator",
                  "4": {
                    "calibration_date": "2023-02-28",
                    "manufacturer": "CoolTech Inc.",
                    "model": "CT500",
                    "serial_number": "92641"
                  },
                  "7": "5.2",
                  "8": "S065",
                  "9": "temperature",
                  "11": "2023-06-06T09:30:00Z",
                  "12": "Celsius"
                },
                {
                  "3": "Lab Storage",
                  "4": {
                    "calibration_date": "2023-03-05",
                    "manufacturer": "HumidSense Solutions",
                    "model": "HS450",
                    "serial_number": "74216"
                  },
                  "7": "68.9",
                  "8": "S066",
                  "9": "humidity",
                  "11": "2023-06-06T10:15:00Z",
                  "12": "%"
                },
                {
                  "3": "Production Area",
                  "4": {
                    "calibration_date": "2023-02-15",
                    "manufacturer": "PressureTech",
                    "model": "PT200",
                    "serial_number": "54238"
                  },
                  "6": "101.3",
                  "8": "S067",
                  "9": "pressure",
                  "11": "2023-06-06T11:00:00Z",
                  "12": "kPa"
                },
                {
                  "2": "500",
                  "3": "Warehouse C",
                  "4": {
                    "calibration_date": "2023-01-20",
                    "manufacturer": "IllumiTech",
                    "model": "IL800",
                    "serial_number": "81749"
                  },
                  "8": "S068",
                  "9": "light",
                  "11": "2023-06-06T11:45:00Z",
                  "12": "Lux"
                },
                {
                  "3": "Packaging Area",
                  "4": {
                    "calibration_date": "2023-03-12",
                    "manufacturer": "VibraSense Inc.",
                    "model": "VS120",
                    "serial_number": "69241"
                  },
                  "8": "S069",
                  "9": "vibration",
                  "11": "2023-06-06T12:30:00Z",
                  "12": "g",
                  "13": "0.35"
                },
                {
                  "0": "2.1",
                  "1": "Hydrogen Peroxide",
                  "3": "Chemical Storage",
                  "4": {
                    "calibration_date": "2023-02-25",
                    "manufacturer": "GasSense",
                    "model": "GS600",
                    "serial_number": "93571"
                  },
                  "8": "S070",
                  "9": "gas",
                  "11": "2023-06-06T13:15:00Z",
                  "12": "%"
                },
                {
                  "3": "Cold Storage Room",
                  "4": {
                    "calibration_date": "2023-03-18",
                    "manufacturer": "FreezeTech",
                    "model": "FT300",
                    "serial_number": "42518"
                  },
                  "7": "-10.7",
                  "8": "S071",
                  "9": "temperature",
                  "11": "2023-06-06T14:00:00Z",
                  "12": "Celsius"
                },
                {
                  "3": "Cleanroom",
                  "4": {
                    "calibration_date": "2023-03-05",
                    "manufacturer": "HumidSense Solutions",
                    "model": "HS450",
                    "serial_number": "74216"
                  },
                  "7": "45.2",
                  "8": "S072",
                  "9": "humidity",
                  "11": "2023-06-06T14:45:00Z",
                  "12": "%"
                },
                {
                  "3": "Filling Station",
                  "4": {
                    "calibration_date": "2023-02-15",
                    "manufacturer": "PressureTech",
                    "model": "PT200",
                    "serial_number": "54238"
                  },
                  "6": "98.7",
                  "8": "S073",
                  "9": "pressure",
                  "11": "2023-06-06T15:30:00Z",
                  "12": "kPa"
                },
                {
                  "2": "800",
                  "3": "Warehouse B",
                  "4": {
                    "calibration_date": "2023-01-20",
                    "manufacturer": "IllumiTech",
                    "model": "IL800",
                    "serial_number": "81749"
                  },
                  "8": "S074",
                  "9": "light",
                  "11": "2023-06-06T16:15:00Z",
                  "12": "Lux"
                },
                {
                  "3": "Mixing Area",
                  "4": {
                    "calibration_date": "2023-03-12",
                    "manufacturer": "VibraSense Inc.",
                    "model": "VS120",
                    "serial_number": "69241"
                  },
                  "8": "S075",
                  "9": "vibration",
                  "11": "2023-06-06T17:00:00Z",
                  "12": "g",
                  "13": "0.2"
                },
                {
                  "0": "4.3",
                  "1": "Ethanol",
                  "3": "Laboratory",
                  "4": {
                    "calibration_date": "2023-02-25",
                    "manufacturer": "GasSense",
                    "model": "GS600",
                    "serial_number": "93571"
                  },
                  "8": "S076",
                  "9": "gas",
                  "11": "2023-06-06T17:45:00Z",
                  "12": "%"
                },
                {
                  "3": "Incubator Room",
                  "4": {
                    "calibration_date": "2023-02-28",
                    "manufacturer": "TempTech",
                    "model": "TT500",
                    "serial_number": "85632"
                  },
                  "7": "37.8",
                  "8": "S077",
                  "9": "temperature",
                  "11": "2023-06-06T18:30:00Z",
                  "12": "Celsius"
                },
                {
                  "3": "Lab Storage",
                  "4": {
                    "calibration_date": "2023-03-05",
                    "manufacturer": "HumidSense Solutions",
                    "model": "HS450",
                    "serial_number": "74216"
                  },
                  "7": "60.5",
                  "8": "S078",
                  "9": "humidity",
                  "11": "2023-06-06T19:15:00Z",
                  "12": "%"
                },
                {
                  "3": "Packing Area",
                  "4": {
                    "calibration_date": "2023-02-15",
                    "manufacturer": "PressureTech",
                    "model": "PT200",
                    "serial_number": "54238"
                  },
                  "6": "101.2",
                  "8": "S079",
                  "9": "pressure",
                  "11": "2023-06-06T20:00:00Z",
                  "12": "kPa"
                },
                {
                  "2": "650",
                  "3": "Warehouse C",
                  "4": {
                    "calibration_date": "2023-01-20",
                    "manufacturer": "IllumiTech",
                    "model": "IL800",
                    "serial_number": "81749"
                  },
                  "8": "S080",
                  "9": "light",
                  "11": "2023-06-06T20:45:00Z",
                  "12": "Lux"
                },
                {
                  "3": "Packing Area",
                  "4": {
                    "calibration_date": "2023-03-12",
                    "manufacturer": "VibraSense Inc.",
                    "model": "VS120",
                    "serial_number": "69241"
                  },
                  "8": "S081",
                  "9": "vibration",
                  "11": "2023-06-06T21:30:00Z",
                  "12": "g",
                  "13": "0.3"
                },
                {
                  "0": "3.8",
                  "1": "Methanol",
                  "3": "Chemical Storage",
                  "4": {
                    "calibration_date": "2023-02-25",
                    "manufacturer": "GasSense",
                    "model": "GS600",
                    "serial_number": "93571"
                  },
                  "8": "S082",
                  "9": "gas",
                  "11": "2023-06-06T22:15:00Z",
                  "12": "%"
                },
                {
                  "3": "Cold Storage",
                  "4": {
                    "calibration_date": "2023-01-10",
                    "manufacturer": "FreezeTech",
                    "model": "FT300",
                    "serial_number": "27651"
                  },
                  "7": "2.5",
                  "8": "S083",
                  "9": "temperature",
                  "11": "2023-06-06T23:00:00Z",
                  "12": "Celsius"
                },
                {
                  "3": "Clean Room",
                  "4": {
                    "calibration_date": "2023-03-05",
                    "manufacturer": "HumidSense Solutions",
                    "model": "HS450",
                    "serial_number": "74216"
                  },
                  "7": "45.2",
                  "8": "S084",
                  "9": "humidity",
                  "11": "2023-06-06T23:45:00Z",
                  "12": "%"
                },
                {
                  "3": "Laboratory",
                  "4": {
                    "calibration_date": "2023-02-15",
                    "manufacturer": "PressureTech",
                    "model": "PT200",
                    "serial_number": "54238"
                  },
                  "6": "98.7",
                  "8": "S085",
                  "9": "pressure",
                  "11": "2023-06-07T00:30:00Z",
                  "12": "kPa"
                },
                {
                  "2": "450",
                  "3": "Production Area",
                  "4": {
                    "calibration_date": "2023-01-20",
                    "manufacturer": "IllumiTech",
                    "model": "IL800",
                    "serial_number": "81749"
                  },
                  "8": "S086",
                  "9": "light",
                  "11": "2023-06-07T01:15:00Z",
                  "12": "Lux"
                },
                {
                  "3": "Warehouse B",
                  "4": {
                    "calibration_date": "2023-03-12",
                    "manufacturer": "VibraSense Inc.",
                    "model": "VS120",
                    "serial_number": "69241"
                  },
                  "8": "S087",
                  "9": "vibration",
                  "11": "2023-06-07T02:00:00Z",
                  "12": "g",
                  "13": "0.5"
                },
                {
                  "0": "2.1",
                  "1": "Ethanol",
                  "3": "Chemical Storage",
                  "4": {
                    "calibration_date": "2023-02-25",
                    "manufacturer": "GasSense",
                    "model": "GS600",
                    "serial_number": "93571"
                  },
                  "8": "S088",
                  "9": "gas",
                  "11": "2023-06-07T02:45:00Z",
                  "12": "%"
                },
                {
                  "3": "Refrigerator",
                  "4": {
                    "calibration_date": "2023-03-18",
                    "manufacturer": "CoolSense",
                    "model": "CS400",
                    "serial_number": "62584"
                  },
                  "7": "6.8",
                  "8": "S089",
                  "9": "temperature",
                  "11": "2023-06-07T03:30:00Z",
                  "12": "Celsius"
                },
                {
                  "3": "Clean Room",
                  "4": {
                    "calibration_date": "2023-01-10",
                    "manufacturer": "HumidSense Solutions",
                    "model": "HS450",
                    "serial_number": "18963"
                  },
                  "7": "48.9",
                  "8": "S090",
                  "9": "humidity",
                  "11": "2023-06-07T04:15:00Z",
                  "12": "%"
                },
                {
                  "3": "Laboratory",
                  "4": {
                    "calibration_date": "2023-02-28",
                    "manufacturer": "PressureTech",
                    "model": "PT200",
                    "serial_number": "75293"
                  },
                  "6": "101.2",
                  "8": "S091",
                  "9": "pressure",
                  "11": "2023-06-07T05:00:00Z",
                  "12": "kPa"
                },
                {
                  "2": "520",
                  "3": "Production Area",
                  "4": {
                    "calibration_date": "2023-01-15",
                    "manufacturer": "IllumiTech",
                    "model": "IL800",
                    "serial_number": "52639"
                  },
                  "8": "S092",
                  "9": "light",
                  "11": "2023-06-07T05:45:00Z",
                  "12": "Lux"
                },
                {
                  "3": "Warehouse B",
                  "4": {
                    "calibration_date": "2023-02-10",
                    "manufacturer": "VibraSense Inc.",
                    "model": "VS120",
                    "serial_number": "31957"
                  },
                  "8": "S093",
                  "9": "vibration",
                  "11": "2023-06-07T06:30:00Z",
                  "12": "g",
                  "13": "0.3"
                },
                {
                  "0": "1.8",
                  "1": "Methane",
                  "3": "Chemical Storage",
                  "4": {
                    "calibration_date": "2023-03-05",
                    "manufacturer": "GasSense",
                    "model": "GS600",
                    "serial_number": "85246"
                  },
                  "8": "S094",
                  "9": "gas",
                  "11": "2023-06-07T07:15:00Z",
                  "12": "%"
                },
                {
                  "3": "Warehouse C",
                  "4": {
                    "calibration_date": "2023-02-20",
                    "manufacturer": "TempPro",
                    "model": "TP300",
                    "serial_number": "98765"
                  },
                  "7": "26.2",
                  "8": "S095",
                  "9": "temperature",
                  "11": "2023-06-07T08:00:00Z",
                  "12": "Celsius"
                },
                {
                  "3": "Clean Room",
                  "4": {
                    "calibration_date": "2023-03-10",
                    "manufacturer": "HumidTech",
                    "model": "HT500",
                    "serial_number": "74125"
                  },
                  "7": "51.3",
                  "8": "S096",
                  "9": "humidity",
                  "11": "2023-06-07T08:45:00Z",
                  "12": "%"
                },
                {
                  "3": "Laboratory",
                  "4": {
                    "calibration_date": "2023-02-15",
                    "manufacturer": "PressureSense",
                    "model": "PS250",
                    "serial_number": "36985"
                  },
                  "6": "100.8",
                  "8": "S097",
                  "9": "pressure",
                  "11": "2023-06-07T09:30:00Z",
                  "12": "kPa"
                },
                {
                  "2": "480",
                  "3": "Production Area",
                  "4": {
                    "calibration_date": "2023-01-25",
                    "manufacturer": "BrightSense",
                    "model": "BR700",
                    "serial_number": "85214"
                  },
                  "8": "S098",
                  "9": "light",
                  "11": "2023-06-07T10:15:00Z",
                  "12": "Lux"
                },
                {
                  "3": "Warehouse B",
                  "4": {
                    "calibration_date": "2023-03-01",
                    "manufacturer": "VibraTech",
                    "model": "VT150",
                    "serial_number": "96325"
                  },
                  "8": "S099",
                  "9": "vibration",
                  "11": "2023-06-07T11:00:00Z",
                  "12": "g",
                  "13": "0.4"
                },
                {
                  "0": "2.1",
                  "1": "Carbon Dioxide",
                  "3": "Chemical Storage",
                  "4": {
                    "calibration_date": "2023-03-15",
                    "manufacturer": "GasTech",
                    "model": "GT700",
                    "serial_number": "14785"
                  },
                  "8": "S100",
                  "9": "gas",
                  "11": "2023-06-07T11:45:00Z",
                  "12": "%"
                },
                {
                  "3": "Storage Room",
                  "4": {
                    "calibration_date": "2023-01-10",
                    "manufacturer": "TempPro",
                    "model": "TP200",
                    "serial_number": "36987"
                  },
                  "7": "25.8",
                  "8": "S101",
                  "9": "temperature",
                  "11": "2023-06-07T12:30:00Z",
                  "12": "Celsius"
                },
                {
                  "3": "Clean Room",
                  "4": {
                    "calibration_date": "2023-02-05",
                    "manufacturer": "HumidTech",
                    "model": "HT300",
                    "serial_number": "74123"
                  },
                  "7": "49.7",
                  "8": "S102",
                  "9": "humidity",
                  "11": "2023-06-07T13:15:00Z",
                  "12": "%"
                },
                {
                  "3": "Laboratory",
                  "4": {
                    "calibration_date": "2023-02-10",
                    "manufacturer": "PressureSense",
                    "model": "PS150",
                    "serial_number": "36989"
                  },
                  "6": "100.5",
                  "8": "S103",
                  "9": "pressure",
                  "11": "2023-06-07T14:00:00Z",
                  "12": "kPa"
                },
                {
                  "2": "520",
                  "3": "Production Area",
                  "4": {
                    "calibration_date": "2023-01-20",
                    "manufacturer": "BrightSense",
                    "model": "BR500",
                    "serial_number": "85216"
                  },
                  "8": "S104",
                  "9": "light",
                  "11": "2023-06-07T14:45:00Z",
                  "12": "Lux"
                },
                {
                  "3": "Warehouse B",
                  "4": {
                    "calibration_date": "2023-02-25",
                    "manufacturer": "VibraTech",
                    "model": "VT100",
                    "serial_number": "96327"
                  },
                  "8": "S105",
                  "9": "vibration",
                  "11": "2023-06-07T15:30:00Z",
                  "12": "g",
                  "13": "0.3"
                },
                {
                  "0": "1.8",
                  "1": "Ammonia",
                  "3": "Chemical Storage",
                  "4": {
                    "calibration_date": "2023-03-05",
                    "manufacturer": "GasTech",
                    "model": "GT500",
                    "serial_number": "14787"
                  },
                  "8": "S106",
                  "9": "gas",
                  "11": "2023-06-07T16:15:00Z",
                  "12": "%"
                },
                {
                  "3": "Freezer",
                  "4": {
                    "calibration_date": "2023-02-28",
                    "manufacturer": "ColdSense",
                    "model": "CS400",
                    "serial_number": "25896"
                  },
                  "7": "-18.2",
                  "8": "S107",
                  "9": "temperature",
                  "11": "2023-06-07T17:00:00Z",
                  "12": "Celsius"
                },
                {
                  "3": "Warehouse C",
                  "4": {
                    "calibration_date": "2023-01-25",
                    "manufacturer": "HumidPro",
                    "model": "HP250",
                    "serial_number": "98741"
                  },
                  "7": "62.1",
                  "8": "S108",
                  "9": "humidity",
                  "11": "2023-06-07T17:45:00Z",
                  "12": "%"
                },
                {
                  "3": "Packaging Area",
                  "4": {
                    "calibration_date": "2023-03-01",
                    "manufacturer": "PressureTech",
                    "model": "PT180",
                    "serial_number": "78542"
                  },
                  "6": "98.9",
                  "8": "S109",
                  "9": "pressure",
                  "11": "2023-06-07T18:30:00Z",
                  "12": "kPa"
                },
                {
                  "2": "400",
                  "3": "Storage Room",
                  "4": {
                    "calibration_date": "2023-02-15",
                    "manufacturer": "LightPro",
                    "model": "LP300",
                    "serial_number": "36985"
                  },
                  "8": "S110",
                  "9": "light",
                  "11": "2023-06-07T19:15:00Z",
                  "12": "Lux"
                },
                {
                  "3": "Production Area",
                  "4": {
                    "calibration_date": "2023-03-10",
                    "manufacturer": "VibroSense",
                    "model": "VS200",
                    "serial_number": "63214"
                  },
                  "8": "S111",
                  "9": "vibration",
                  "11": "2023-06-07T20:00:00Z",
                  "12": "g",
                  "13": "0.5"
                },
                {
                  "0": "0.8",
                  "1": "Nitrogen",
                  "3": "Chemical Lab",
                  "4": {
                    "calibration_date": "2023-03-15",
                    "manufacturer": "GasPro",
                    "model": "GP600",
                    "serial_number": "95123"
                  },
                  "8": "S112",
                  "9": "gas",
                  "11": "2023-06-07T20:45:00Z",
                  "12": "%"
                },
                {
                  "3": "Cold Storage",
                  "4": {
                    "calibration_date": "2023-02-20",
                    "manufacturer": "FreezeTech",
                    "model": "FT500",
                    "serial_number": "78456"
                  },
                  "7": "-12.5",
                  "8": "S113",
                  "9": "temperature",
                  "11": "2023-06-07T21:30:00Z",
                  "12": "Celsius"
                },
                {
                  "3": "Warehouse B",
                  "4": {
                    "calibration_date": "2023-01-30",
                    "manufacturer": "HumidSense",
                    "model": "HS300",
                    "serial_number": "23658"
                  },
                  "7": "58.7",
                  "8": "S114",
                  "9": "humidity",
                  "11": "2023-06-07T22:15:00Z",
                  "12": "%"
                },
                {
                  "3": "Clean Room",
                  "4": {
                    "calibration_date": "2023-02-28",
                    "manufacturer": "PressPro",
                    "model": "PP200",
                    "serial_number": "47852"
                  },
                  "6": "101.2",
                  "8": "S115",
                  "9": "pressure",
                  "11": "2023-06-07T23:00:00Z",
                  "12": "kPa"
                },
                {
                  "2": "350",
                  "3": "Lab A",
                  "4": {
                    "calibration_date": "2023-03-05",
                    "manufacturer": "Lumina",
                    "model": "LM400",
                    "serial_number": "69854"
                  },
                  "8": "S116",
                  "9": "light",
                  "11": "2023-06-07T23:45:00Z",
                  "12": "Lux"
                },
                {
                  "3": "Machine Room",
                  "4": {
                    "calibration_date": "2023-03-20",
                    "manufacturer": "VibePro",
                    "model": "VP250",
                    "serial_number": "32145"
                  },
                  "8": "S117",
                  "9": "vibration",
                  "11": "2023-06-08T00:30:00Z",
                  "12": "g",
                  "13": "0.7"
                },
                {
                  "0": "0.9",
                  "1": "Oxygen",
                  "3": "Storage Area",
                  "4": {
                    "calibration_date": "2023-03-25",
                    "manufacturer": "OxySense",
                    "model": "OS500",
                    "serial_number": "85236"
                  },
                  "8": "S118",
                  "9": "gas",
                  "11": "2023-06-08T01:15:00Z",
                  "12": "%"
                },
                {
                  "3": "Lab B",
                  "4": {
                    "calibration_date": "2023-04-10",
                    "manufacturer": "TempTech",
                    "model": "TT700",
                    "serial_number": "96587"
                  },
                  "7": "21.8",
                  "8": "S119",
                  "9": "temperature",
                  "11": "2023-06-08T02:00:00Z",
                  "12": "Celsius"
                },
                {
                  "3": "Production Area",
                  "4": {
                    "calibration_date": "2023-04-15",
                    "manufacturer": "HygroSense",
                    "model": "HG400",
                    "serial_number": "78549"
                  },
                  "7": "62.3",
                  "8": "S120",
                  "9": "humidity",
                  "11": "2023-06-08T02:45:00Z",
                  "12": "%"
                },
                {
                  "3": "Clean Room",
                  "4": {
                    "calibration_date": "2023-05-02",
                    "manufacturer": "PressPro",
                    "model": "PP200",
                    "serial_number": "36251"
                  },
                  "6": "100.9",
                  "8": "S121",
                  "9": "pressure",
                  "11": "2023-06-08T03:30:00Z",
                  "12": "kPa"
                },
                {
                  "2": "420",
                  "3": "Lab C",
                  "4": {
                    "calibration_date": "2023-05-10",
                    "manufacturer": "Lumina",
                    "model": "LM400",
                    "serial_number": "65428"
                  },
                  "8": "S122",
                  "9": "light",
                  "11": "2023-06-08T04:15:00Z",
                  "12": "Lux"
                },
                {
                  "3": "Machine Room",
                  "4": {
                    "calibration_date": "2023-05-15",
                    "manufacturer": "VibePro",
                    "model": "VP250",
                    "serial_number": "98521"
                  },
                  "8": "S123",
                  "9": "vibration",
                  "11": "2023-06-08T05:00:00Z",
                  "12": "g",
                  "13": "0.8"
                },
                {
                  "0": "0.5",
                  "1": "Nitrogen",
                  "3": "Storage Area",
                  "4": {
                    "calibration_date": "2023-05-20",
                    "manufacturer": "GasSense",
                    "model": "GS600",
                    "serial_number": "41258"
                  },
                  "8": "S124",
                  "9": "gas",
                  "11": "2023-06-08T05:45:00Z",
                  "12": "%"
                },
                {
                  "3": "Cold Storage",
                  "4": {
                    "calibration_date": "2023-05-25",
                    "manufacturer": "FreezeTech",
                    "model": "FT500",
                    "serial_number": "63214"
                  },
                  "7": "-18.5",
                  "8": "S125",
                  "9": "temperature",
                  "11": "2023-06-08T06:30:00Z",
                  "12": "Celsius"
                },
                {
                  "3": "Lab D",
                  "4": {
                    "calibration_date": "2023-05-30",
                    "manufacturer": "HumidSense",
                    "model": "HM300",
                    "serial_number": "98547"
                  },
                  "7": "48.9",
                  "8": "S126",
                  "9": "humidity",
                  "11": "2023-06-08T07:15:00Z",
                  "12": "%"
                },
                {
                  "3": "Production Area",
                  "4": {
                    "calibration_date": "2023-05-02",
                    "manufacturer": "PressPro",
                    "model": "PP200",
                    "serial_number": "36251"
                  },
                  "6": "98.7",
                  "8": "S127",
                  "9": "pressure",
                  "11": "2023-06-08T08:00:00Z",
                  "12": "kPa"
                },
                {
                  "2": "380",
                  "3": "Lab E",
                  "4": {
                    "calibration_date": "2023-05-10",
                    "manufacturer": "Lumina",
                    "model": "LM400",
                    "serial_number": "65428"
                  },
                  "8": "S128",
                  "9": "light",
                  "11": "2023-06-08T08:45:00Z",
                  "12": "Lux"
                },
                {
                  "3": "Machine Room",
                  "4": {
                    "calibration_date": "2023-05-15",
                    "manufacturer": "VibePro",
                    "model": "VP250",
                    "serial_number": "98521"
                  },
                  "8": "S129",
                  "9": "vibration",
                  "11": "2023-06-08T09:30:00Z",
                  "12": "g",
                  "13": "0.6"
                },
                {
                  "0": "0.8",
                  "1": "Oxygen",
                  "3": "Storage Area",
                  "4": {
                    "calibration_date": "2023-05-20",
                    "manufacturer": "GasSense",
                    "model": "GS600",
                    "serial_number": "41258"
                  },
                  "8": "S130",
                  "9": "gas",
                  "11": "2023-06-08T10:15:00Z",
                  "12": "%"
                }
              ],
              "schema": [
                {
                  "key": "0",
                  "name": "concentration",
                  "type": "double"
                },
                {
                  "key": "1",
                  "name": "gas_type",
                  "type": "string"
                },
                {
                  "key": "2",
                  "name": "light_intensity",
                  "type": "bigint"
                },
                {
                  "key": "3",
                  "name": "location",
                  "type": "string"
                },
                {
                  "key": "4",
                  "name": "metadata",
                  "type": "StructType(StructField(calibration_date,StringType,true),StructField(manufacturer,StringType,true),StructField(model,StringType,true),StructField(serial_number,StringType,true))"
                },
                {
                  "key": "5",
                  "name": "power_consumption",
                  "type": "bigint"
                },
                {
                  "key": "6",
                  "name": "pressure",
                  "type": "double"
                },
                {
                  "key": "7",
                  "name": "reading",
                  "type": "string"
                },
                {
                  "key": "8",
                  "name": "sensor_id",
                  "type": "string"
                },
                {
                  "key": "9",
                  "name": "sensor_type",
                  "type": "string"
                },
                {
                  "key": "10",
                  "name": "status",
                  "type": "string"
                },
                {
                  "key": "11",
                  "name": "timestamp",
                  "type": "string"
                },
                {
                  "key": "12",
                  "name": "unit",
                  "type": "string"
                },
                {
                  "key": "13",
                  "name": "vibration_intensity",
                  "type": "double"
                }
              ],
              "truncated": false
            }
          },
          "type": "Synapse.DataFrame"
        },
        "1dc3a7a5-e2bd-4278-b8c7-7ab77ec9bd1e": {
          "persist_state": {
            "view": {
              "chartOptions": {
                "aggregationType": "count",
                "categoryFieldKeys": [
                  "0"
                ],
                "chartType": "bar",
                "isStacked": false,
                "seriesFieldKeys": [
                  "0"
                ]
              },
              "tableOptions": {},
              "type": "details"
            }
          },
          "sync_state": {
            "isSummary": false,
            "language": "scala",
            "table": {
              "rows": [
                {
                  "0": "S003",
                  "1": "pressure",
                  "2": "Production Line 1",
                  "3": "2023-06-04T11:00:00Z",
                  "4": "101.2",
                  "5": "kPa",
                  "6": "2023-03-10",
                  "7": "PharmaSense Ltd.",
                  "8": "PRS456",
                  "9": "54321"
                },
                {
                  "0": "S011",
                  "1": "pressure",
                  "2": "Cleanroom",
                  "3": "2023-06-04T17:00:00Z",
                  "4": "100.5",
                  "5": "kPa",
                  "6": "2023-02-28",
                  "7": "PressureTech Inc.",
                  "8": "PT300",
                  "9": "97531"
                },
                {
                  "0": "S020",
                  "1": "pressure",
                  "2": "Warehouse C",
                  "3": "2023-06-04T23:45:00Z",
                  "4": "98.2",
                  "5": "kPa",
                  "6": "2023-02-10",
                  "7": "PressureSense Ltd.",
                  "8": "PS400",
                  "9": "24680"
                },
                {
                  "0": "S028",
                  "1": "pressure",
                  "2": "Production Line",
                  "3": "2023-06-05T05:45:00Z",
                  "4": "5.2",
                  "5": "bar",
                  "6": "2023-02-18",
                  "7": "PressureTech Inc.",
                  "8": "PT300",
                  "9": "62105"
                },
                {
                  "0": "S036",
                  "1": "pressure",
                  "2": "Production Line",
                  "3": "2023-06-05T11:45:00Z",
                  "4": "4.7",
                  "5": "bar",
                  "6": "2023-02-25",
                  "7": "PressureSense Corp.",
                  "8": "PS400",
                  "9": "63218"
                },
                {
                  "0": "S043",
                  "1": "pressure",
                  "2": "Clean Room",
                  "3": "2023-06-05T17:00:00Z",
                  "4": "1023.5",
                  "5": "hPa",
                  "6": "2023-01-10",
                  "7": "PressureTech Inc.",
                  "8": "PT1000",
                  "9": "48921"
                },
                {
                  "0": "S053",
                  "1": "pressure",
                  "2": "Clean Room",
                  "3": "2023-06-06T00:30:00Z",
                  "5": "kPa",
                  "6": "2023-02-28",
                  "7": "PressureTech Inc.",
                  "8": "PT100",
                  "9": "93210"
                },
                {
                  "0": "S061",
                  "1": "pressure",
                  "2": "Clean Room",
                  "3": "2023-06-06T06:30:00Z",
                  "5": "kPa",
                  "6": "2023-01-25",
                  "7": "PressureSolutions",
                  "8": "PS150",
                  "9": "91348"
                },
                {
                  "0": "S067",
                  "1": "pressure",
                  "2": "Production Area",
                  "3": "2023-06-06T11:00:00Z",
                  "5": "kPa",
                  "6": "2023-02-15",
                  "7": "PressureTech",
                  "8": "PT200",
                  "9": "54238"
                },
                {
                  "0": "S073",
                  "1": "pressure",
                  "2": "Filling Station",
                  "3": "2023-06-06T15:30:00Z",
                  "5": "kPa",
                  "6": "2023-02-15",
                  "7": "PressureTech",
                  "8": "PT200",
                  "9": "54238"
                },
                {
                  "0": "S079",
                  "1": "pressure",
                  "2": "Packing Area",
                  "3": "2023-06-06T20:00:00Z",
                  "5": "kPa",
                  "6": "2023-02-15",
                  "7": "PressureTech",
                  "8": "PT200",
                  "9": "54238"
                },
                {
                  "0": "S085",
                  "1": "pressure",
                  "2": "Laboratory",
                  "3": "2023-06-07T00:30:00Z",
                  "5": "kPa",
                  "6": "2023-02-15",
                  "7": "PressureTech",
                  "8": "PT200",
                  "9": "54238"
                },
                {
                  "0": "S091",
                  "1": "pressure",
                  "2": "Laboratory",
                  "3": "2023-06-07T05:00:00Z",
                  "5": "kPa",
                  "6": "2023-02-28",
                  "7": "PressureTech",
                  "8": "PT200",
                  "9": "75293"
                },
                {
                  "0": "S097",
                  "1": "pressure",
                  "2": "Laboratory",
                  "3": "2023-06-07T09:30:00Z",
                  "5": "kPa",
                  "6": "2023-02-15",
                  "7": "PressureSense",
                  "8": "PS250",
                  "9": "36985"
                },
                {
                  "0": "S103",
                  "1": "pressure",
                  "2": "Laboratory",
                  "3": "2023-06-07T14:00:00Z",
                  "5": "kPa",
                  "6": "2023-02-10",
                  "7": "PressureSense",
                  "8": "PS150",
                  "9": "36989"
                },
                {
                  "0": "S109",
                  "1": "pressure",
                  "2": "Packaging Area",
                  "3": "2023-06-07T18:30:00Z",
                  "5": "kPa",
                  "6": "2023-03-01",
                  "7": "PressureTech",
                  "8": "PT180",
                  "9": "78542"
                },
                {
                  "0": "S115",
                  "1": "pressure",
                  "2": "Clean Room",
                  "3": "2023-06-07T23:00:00Z",
                  "5": "kPa",
                  "6": "2023-02-28",
                  "7": "PressPro",
                  "8": "PP200",
                  "9": "47852"
                },
                {
                  "0": "S121",
                  "1": "pressure",
                  "2": "Clean Room",
                  "3": "2023-06-08T03:30:00Z",
                  "5": "kPa",
                  "6": "2023-05-02",
                  "7": "PressPro",
                  "8": "PP200",
                  "9": "36251"
                },
                {
                  "0": "S127",
                  "1": "pressure",
                  "2": "Production Area",
                  "3": "2023-06-08T08:00:00Z",
                  "5": "kPa",
                  "6": "2023-05-02",
                  "7": "PressPro",
                  "8": "PP200",
                  "9": "36251"
                }
              ],
              "schema": [
                {
                  "key": "0",
                  "name": "sensor_id",
                  "type": "string"
                },
                {
                  "key": "1",
                  "name": "sensor_type",
                  "type": "string"
                },
                {
                  "key": "2",
                  "name": "location",
                  "type": "string"
                },
                {
                  "key": "3",
                  "name": "timestamp",
                  "type": "string"
                },
                {
                  "key": "4",
                  "name": "reading",
                  "type": "string"
                },
                {
                  "key": "5",
                  "name": "unit",
                  "type": "string"
                },
                {
                  "key": "6",
                  "name": "calibration_date",
                  "type": "string"
                },
                {
                  "key": "7",
                  "name": "manufacturer",
                  "type": "string"
                },
                {
                  "key": "8",
                  "name": "model",
                  "type": "string"
                },
                {
                  "key": "9",
                  "name": "serial_number",
                  "type": "string"
                }
              ],
              "truncated": false
            }
          },
          "type": "Synapse.DataFrame"
        },
        "59360ac0-1dc5-4ca1-9f80-9a7b547d2eb4": {
          "persist_state": {
            "view": {
              "chartOptions": {
                "aggregationType": "count",
                "categoryFieldKeys": [
                  "0"
                ],
                "chartType": "bar",
                "isStacked": false,
                "seriesFieldKeys": [
                  "0"
                ]
              },
              "tableOptions": {},
              "type": "details"
            }
          },
          "sync_state": {
            "isSummary": false,
            "language": "scala",
            "table": {
              "rows": [
                {
                  "0": "S002",
                  "1": "humidity",
                  "2": "Warehouse B",
                  "3": "2023-06-04T10:15:00Z",
                  "4": "60.2",
                  "5": "%",
                  "6": "2023-02-20",
                  "7": "XYZ Sensors Corp.",
                  "8": "HUM123",
                  "9": "67890"
                },
                {
                  "0": "S009",
                  "1": "humidity",
                  "2": "Warehouse C",
                  "3": "2023-06-04T15:30:00Z",
                  "4": "62.8",
                  "5": "%",
                  "6": "2023-03-25",
                  "7": "HumidSense Corp.",
                  "8": "HM200",
                  "9": "80246"
                },
                {
                  "0": "S014",
                  "1": "humidity",
                  "2": "Warehouse B",
                  "3": "2023-06-04T19:15:00Z",
                  "4": "55.2",
                  "5": "%",
                  "6": "2023-03-10",
                  "7": "HumidTech Corp.",
                  "8": "HT500",
                  "9": "13579"
                },
                {
                  "0": "S019",
                  "1": "humidity",
                  "2": "Laboratory",
                  "3": "2023-06-04T23:00:00Z",
                  "4": "62.7",
                  "5": "%",
                  "6": "2023-03-25",
                  "7": "HumidSense Corp.",
                  "8": "HS500",
                  "9": "13579"
                },
                {
                  "0": "S026",
                  "1": "humidity",
                  "2": "Laboratory",
                  "3": "2023-06-05T04:15:00Z",
                  "4": "59.8",
                  "5": "%",
                  "6": "2023-03-25",
                  "7": "HumidSense Corp.",
                  "8": "HS500",
                  "9": "13579"
                },
                {
                  "0": "S030",
                  "1": "humidity",
                  "2": "Clean Room",
                  "3": "2023-06-05T07:15:00Z",
                  "4": "52.3",
                  "5": "%",
                  "6": "2023-01-30",
                  "7": "HumidSense Corp.",
                  "8": "HS500",
                  "9": "80246"
                },
                {
                  "0": "S038",
                  "1": "humidity",
                  "2": "Storage Room",
                  "3": "2023-06-05T13:15:00Z",
                  "4": "65.2",
                  "5": "%",
                  "6": "2023-03-20",
                  "7": "HumidSense Inc.",
                  "8": "HM300",
                  "9": "98263"
                },
                {
                  "0": "S047",
                  "1": "humidity",
                  "2": "Storage Room",
                  "3": "2023-06-05T20:00:00Z",
                  "4": "62.8",
                  "5": "%",
                  "6": "2023-03-20",
                  "7": "HumidSense Inc.",
                  "8": "HM300",
                  "9": "28714"
                },
                {
                  "0": "S051",
                  "1": "humidity",
                  "2": "Packaging Area",
                  "3": "2023-06-05T23:00:00Z",
                  "4": "55.2",
                  "5": "%",
                  "6": "2023-03-20",
                  "7": "HumidSense Inc.",
                  "8": "HM300",
                  "9": "28714"
                },
                {
                  "0": "S055",
                  "1": "humidity",
                  "2": "Incubator",
                  "3": "2023-06-06T02:00:00Z",
                  "4": "70.5",
                  "5": "%",
                  "6": "2023-03-20",
                  "7": "HumidSense Inc.",
                  "8": "HM300",
                  "9": "28714"
                },
                {
                  "0": "S060",
                  "1": "humidity",
                  "2": "Laboratory",
                  "3": "2023-06-06T05:45:00Z",
                  "4": "63.2",
                  "5": "%",
                  "6": "2023-03-18",
                  "7": "HumidTech Solutions",
                  "8": "HT400",
                  "9": "75420"
                },
                {
                  "0": "S066",
                  "1": "humidity",
                  "2": "Lab Storage",
                  "3": "2023-06-06T10:15:00Z",
                  "4": "68.9",
                  "5": "%",
                  "6": "2023-03-05",
                  "7": "HumidSense Solutions",
                  "8": "HS450",
                  "9": "74216"
                },
                {
                  "0": "S072",
                  "1": "humidity",
                  "2": "Cleanroom",
                  "3": "2023-06-06T14:45:00Z",
                  "4": "45.2",
                  "5": "%",
                  "6": "2023-03-05",
                  "7": "HumidSense Solutions",
                  "8": "HS450",
                  "9": "74216"
                },
                {
                  "0": "S078",
                  "1": "humidity",
                  "2": "Lab Storage",
                  "3": "2023-06-06T19:15:00Z",
                  "4": "60.5",
                  "5": "%",
                  "6": "2023-03-05",
                  "7": "HumidSense Solutions",
                  "8": "HS450",
                  "9": "74216"
                },
                {
                  "0": "S084",
                  "1": "humidity",
                  "2": "Clean Room",
                  "3": "2023-06-06T23:45:00Z",
                  "4": "45.2",
                  "5": "%",
                  "6": "2023-03-05",
                  "7": "HumidSense Solutions",
                  "8": "HS450",
                  "9": "74216"
                },
                {
                  "0": "S090",
                  "1": "humidity",
                  "2": "Clean Room",
                  "3": "2023-06-07T04:15:00Z",
                  "4": "48.9",
                  "5": "%",
                  "6": "2023-01-10",
                  "7": "HumidSense Solutions",
                  "8": "HS450",
                  "9": "18963"
                },
                {
                  "0": "S096",
                  "1": "humidity",
                  "2": "Clean Room",
                  "3": "2023-06-07T08:45:00Z",
                  "4": "51.3",
                  "5": "%",
                  "6": "2023-03-10",
                  "7": "HumidTech",
                  "8": "HT500",
                  "9": "74125"
                },
                {
                  "0": "S102",
                  "1": "humidity",
                  "2": "Clean Room",
                  "3": "2023-06-07T13:15:00Z",
                  "4": "49.7",
                  "5": "%",
                  "6": "2023-02-05",
                  "7": "HumidTech",
                  "8": "HT300",
                  "9": "74123"
                },
                {
                  "0": "S108",
                  "1": "humidity",
                  "2": "Warehouse C",
                  "3": "2023-06-07T17:45:00Z",
                  "4": "62.1",
                  "5": "%",
                  "6": "2023-01-25",
                  "7": "HumidPro",
                  "8": "HP250",
                  "9": "98741"
                },
                {
                  "0": "S114",
                  "1": "humidity",
                  "2": "Warehouse B",
                  "3": "2023-06-07T22:15:00Z",
                  "4": "58.7",
                  "5": "%",
                  "6": "2023-01-30",
                  "7": "HumidSense",
                  "8": "HS300",
                  "9": "23658"
                },
                {
                  "0": "S120",
                  "1": "humidity",
                  "2": "Production Area",
                  "3": "2023-06-08T02:45:00Z",
                  "4": "62.3",
                  "5": "%",
                  "6": "2023-04-15",
                  "7": "HygroSense",
                  "8": "HG400",
                  "9": "78549"
                },
                {
                  "0": "S126",
                  "1": "humidity",
                  "2": "Lab D",
                  "3": "2023-06-08T07:15:00Z",
                  "4": "48.9",
                  "5": "%",
                  "6": "2023-05-30",
                  "7": "HumidSense",
                  "8": "HM300",
                  "9": "98547"
                }
              ],
              "schema": [
                {
                  "key": "0",
                  "name": "sensor_id",
                  "type": "string"
                },
                {
                  "key": "1",
                  "name": "sensor_type",
                  "type": "string"
                },
                {
                  "key": "2",
                  "name": "location",
                  "type": "string"
                },
                {
                  "key": "3",
                  "name": "timestamp",
                  "type": "string"
                },
                {
                  "key": "4",
                  "name": "reading",
                  "type": "string"
                },
                {
                  "key": "5",
                  "name": "unit",
                  "type": "string"
                },
                {
                  "key": "6",
                  "name": "calibration_date",
                  "type": "string"
                },
                {
                  "key": "7",
                  "name": "manufacturer",
                  "type": "string"
                },
                {
                  "key": "8",
                  "name": "model",
                  "type": "string"
                },
                {
                  "key": "9",
                  "name": "serial_number",
                  "type": "string"
                }
              ],
              "truncated": false
            }
          },
          "type": "Synapse.DataFrame"
        },
        "87a97b63-a9e7-4b57-ad83-80c65c974ac2": {
          "persist_state": {
            "view": {
              "chartOptions": {
                "aggregationType": "sum",
                "categoryFieldKeys": [
                  "0"
                ],
                "chartType": "bar",
                "isStacked": false,
                "seriesFieldKeys": [
                  "6"
                ]
              },
              "tableOptions": {},
              "type": "details"
            }
          },
          "sync_state": {
            "isSummary": false,
            "language": "scala",
            "table": {
              "rows": [
                {
                  "0": "S001",
                  "1": "temperature",
                  "2": "Warehouse A",
                  "3": "2023-06-04T09:30:00Z",
                  "4": "25.5",
                  "5": "Celsius",
                  "13": "2023-01-15",
                  "14": "ABC Sensors Inc.",
                  "15": "TS200",
                  "16": "12345"
                },
                {
                  "0": "S002",
                  "1": "humidity",
                  "2": "Warehouse B",
                  "3": "2023-06-04T10:15:00Z",
                  "4": "60.2",
                  "5": "%",
                  "13": "2023-02-20",
                  "14": "XYZ Sensors Corp.",
                  "15": "HUM123",
                  "16": "67890"
                },
                {
                  "0": "S003",
                  "1": "pressure",
                  "2": "Production Line 1",
                  "3": "2023-06-04T11:00:00Z",
                  "4": "101.2",
                  "5": "kPa",
                  "13": "2023-03-10",
                  "14": "PharmaSense Ltd.",
                  "15": "PRS456",
                  "16": "54321"
                },
                {
                  "0": "S004",
                  "1": "vibration",
                  "2": "Packaging Area",
                  "3": "2023-06-04T11:45:00Z",
                  "4": "0.8",
                  "5": "mm/s",
                  "13": "2023-04-05",
                  "14": "SensorTech Inc.",
                  "15": "VIB789",
                  "16": "98765"
                },
                {
                  "0": "S005",
                  "1": "air_quality",
                  "2": "Laboratory",
                  "3": "2023-06-04T12:30:00Z",
                  "4": "18.5",
                  "5": "ppm",
                  "13": "2023-05-01",
                  "14": "AirSense Systems",
                  "15": "AQ2000",
                  "16": "24680"
                },
                {
                  "0": "S006",
                  "1": "light",
                  "2": "Cleanroom",
                  "3": "2023-06-04T13:15:00Z",
                  "4": "800",
                  "5": "lux",
                  "13": "2023-05-15",
                  "14": "LightTech Solutions",
                  "15": "LT100",
                  "16": "13579"
                },
                {
                  "0": "S007",
                  "1": "gas",
                  "2": "Storage Area",
                  "3": "2023-06-04T14:00:00Z",
                  "4": "12.3",
                  "5": "ppm",
                  "13": "2023-06-02",
                  "14": "GasSense Inc.",
                  "15": "GS500",
                  "16": "97531"
                },
                {
                  "0": "S008",
                  "1": "power",
                  "2": "Equipment Room",
                  "3": "2023-06-04T14:45:00Z",
                  "4": "1500",
                  "5": "Watts",
                  "13": "2023-05-20",
                  "14": "PowerSense Technologies",
                  "15": "PW5000",
                  "16": "24680"
                },
                {
                  "0": "S009",
                  "1": "humidity",
                  "2": "Warehouse C",
                  "3": "2023-06-04T15:30:00Z",
                  "4": "62.8",
                  "5": "%",
                  "13": "2023-03-25",
                  "14": "HumidSense Corp.",
                  "15": "HM200",
                  "16": "80246"
                },
                {
                  "0": "S010",
                  "1": "temperature",
                  "2": "Refrigeration Room",
                  "3": "2023-06-04T16:15:00Z",
                  "4": "-15.2",
                  "5": "Celsius",
                  "13": "2023-01-30",
                  "14": "CoolSense Inc.",
                  "15": "CT2000",
                  "16": "24680"
                },
                {
                  "0": "S011",
                  "1": "pressure",
                  "2": "Cleanroom",
                  "3": "2023-06-04T17:00:00Z",
                  "4": "100.5",
                  "5": "kPa",
                  "13": "2023-02-28",
                  "14": "PressureTech Inc.",
                  "15": "PT300",
                  "16": "97531"
                },
                {
                  "0": "S012",
                  "1": "vibration",
                  "2": "Production Line 1",
                  "3": "2023-06-04T17:45:00Z",
                  "4": "0.025",
                  "5": "mm/s",
                  "13": "2023-04-15",
                  "14": "VibraSense Technologies",
                  "15": "VB1000",
                  "16": "80246"
                },
                {
                  "0": "S013",
                  "1": "gas",
                  "2": "Laboratory",
                  "3": "2023-06-04T18:30:00Z",
                  "4": "8.7",
                  "5": "ppm",
                  "13": "2023-05-05",
                  "14": "GasTech Solutions",
                  "15": "GT200",
                  "16": "24680"
                },
                {
                  "0": "S014",
                  "1": "humidity",
                  "2": "Warehouse B",
                  "3": "2023-06-04T19:15:00Z",
                  "4": "55.2",
                  "5": "%",
                  "13": "2023-03-10",
                  "14": "HumidTech Corp.",
                  "15": "HT500",
                  "16": "13579"
                },
                {
                  "0": "S015",
                  "1": "temperature",
                  "2": "Storage Area",
                  "3": "2023-06-04T20:00:00Z",
                  "4": "18.9",
                  "5": "Celsius",
                  "13": "2023-01-05",
                  "14": "TempSense Inc.",
                  "15": "TM100",
                  "16": "24680"
                },
                {
                  "0": "S016",
                  "1": "light",
                  "2": "Cleanroom",
                  "3": "2023-06-04T20:45:00Z",
                  "4": "500",
                  "5": "lux",
                  "13": "2023-05-20",
                  "14": "LightTech Solutions",
                  "15": "LT200",
                  "16": "97531"
                },
                {
                  "0": "S018",
                  "1": "sound",
                  "2": "Production Line 2",
                  "3": "2023-06-04T22:15:00Z",
                  "4": "65.3",
                  "5": "dB",
                  "13": "2023-04-02",
                  "14": "AcousticTech Inc.",
                  "15": "AS300",
                  "16": "80246"
                },
                {
                  "0": "S019",
                  "1": "humidity",
                  "2": "Laboratory",
                  "3": "2023-06-04T23:00:00Z",
                  "4": "62.7",
                  "5": "%",
                  "13": "2023-03-25",
                  "14": "HumidSense Corp.",
                  "15": "HS500",
                  "16": "13579"
                },
                {
                  "0": "S020",
                  "1": "pressure",
                  "2": "Warehouse C",
                  "3": "2023-06-04T23:45:00Z",
                  "4": "98.2",
                  "5": "kPa",
                  "13": "2023-02-10",
                  "14": "PressureSense Ltd.",
                  "15": "PS400",
                  "16": "24680"
                },
                {
                  "0": "S021",
                  "1": "gas",
                  "2": "Storage Area",
                  "3": "2023-06-05T00:30:00Z",
                  "4": "12.4",
                  "5": "ppm",
                  "13": "2023-05-15",
                  "14": "GasSense Inc.",
                  "15": "GS300",
                  "16": "97531"
                },
                {
                  "0": "S022",
                  "1": "temperature",
                  "2": "Cleanroom",
                  "3": "2023-06-05T01:15:00Z",
                  "4": "23.1",
                  "5": "Celsius",
                  "13": "2023-01-30",
                  "14": "TempTech Solutions",
                  "15": "TT400",
                  "16": "80246"
                },
                {
                  "0": "S023",
                  "1": "vibration",
                  "2": "Manufacturing Area",
                  "3": "2023-06-05T02:00:00Z",
                  "4": "0.32",
                  "5": "g",
                  "13": "2023-02-22",
                  "14": "VibraSense Inc.",
                  "15": "VB200",
                  "16": "75309"
                },
                {
                  "0": "S024",
                  "1": "light",
                  "2": "Warehouse B",
                  "3": "2023-06-05T02:45:00Z",
                  "4": "420",
                  "5": "lux",
                  "13": "2023-03-10",
                  "14": "LuminTech Corp.",
                  "15": "LT600",
                  "16": "46820"
                },
                {
                  "0": "S025",
                  "1": "air_quality",
                  "2": "Office Area",
                  "3": "2023-06-05T03:30:00Z",
                  "4": "{\"CO2\":800,\"PM2.5\":20}",
                  "5": "{\"CO2\":\"ppm\",\"PM2.5\":\"µg/m³\"}",
                  "13": "2023-01-05",
                  "14": "AirSense Systems",
                  "15": "AS800",
                  "16": "90257"
                },
                {
                  "0": "S026",
                  "1": "humidity",
                  "2": "Laboratory",
                  "3": "2023-06-05T04:15:00Z",
                  "4": "59.8",
                  "5": "%",
                  "13": "2023-03-25",
                  "14": "HumidSense Corp.",
                  "15": "HS500",
                  "16": "13579"
                },
                {
                  "0": "S027",
                  "1": "temperature",
                  "2": "Storage Room",
                  "3": "2023-06-05T05:00:00Z",
                  "4": "21.8",
                  "5": "Celsius",
                  "13": "2023-01-30",
                  "14": "TempTech Solutions",
                  "15": "TT400",
                  "16": "80246"
                },
                {
                  "0": "S028",
                  "1": "pressure",
                  "2": "Production Line",
                  "3": "2023-06-05T05:45:00Z",
                  "4": "5.2",
                  "5": "bar",
                  "13": "2023-02-18",
                  "14": "PressureTech Inc.",
                  "15": "PT300",
                  "16": "62105"
                },
                {
                  "0": "S029",
                  "1": "sound",
                  "2": "Quality Control Lab",
                  "3": "2023-06-05T06:30:00Z",
                  "4": "68.5",
                  "5": "dB",
                  "13": "2023-03-05",
                  "14": "AcoustiSense Corp.",
                  "15": "AS700",
                  "16": "95231"
                },
                {
                  "0": "S030",
                  "1": "humidity",
                  "2": "Clean Room",
                  "3": "2023-06-05T07:15:00Z",
                  "4": "52.3",
                  "5": "%",
                  "13": "2023-01-30",
                  "14": "HumidSense Corp.",
                  "15": "HS500",
                  "16": "80246"
                },
                {
                  "0": "S031",
                  "1": "temperature",
                  "2": "Storage Room",
                  "3": "2023-06-05T08:00:00Z",
                  "4": "21.5",
                  "5": "Celsius",
                  "13": "2023-01-30",
                  "14": "TempTech Solutions",
                  "15": "TT400",
                  "16": "80246"
                },
                {
                  "0": "S032",
                  "1": "motion",
                  "2": "Warehouse C",
                  "3": "2023-06-05T08:45:00Z",
                  "11": "detected",
                  "13": "2023-02-05",
                  "14": "MotionSense Inc.",
                  "15": "MS100",
                  "16": "71839"
                },
                {
                  "0": "S033",
                  "1": "vibration",
                  "2": "Production Line",
                  "3": "2023-06-05T09:30:00Z",
                  "4": "3.8",
                  "5": "mm/s",
                  "13": "2023-03-15",
                  "14": "VibroTech Solutions",
                  "15": "VT2000",
                  "16": "54892"
                },
                {
                  "0": "S034",
                  "1": "gas",
                  "2": "Storage Facility",
                  "3": "2023-06-05T10:15:00Z",
                  "4": "800",
                  "5": "ppm",
                  "7": "CO2",
                  "13": "2023-02-28",
                  "14": "GasSense Inc.",
                  "15": "GS500",
                  "16": "72019"
                },
                {
                  "0": "S035",
                  "1": "light",
                  "2": "Clean Room",
                  "3": "2023-06-05T11:00:00Z",
                  "4": "450",
                  "5": "lux",
                  "13": "2023-02-10",
                  "14": "LightTech Corp.",
                  "15": "LT600",
                  "16": "92654"
                },
                {
                  "0": "S036",
                  "1": "pressure",
                  "2": "Production Line",
                  "3": "2023-06-05T11:45:00Z",
                  "4": "4.7",
                  "5": "bar",
                  "13": "2023-02-25",
                  "14": "PressureSense Corp.",
                  "15": "PS400",
                  "16": "63218"
                },
                {
                  "0": "S037",
                  "1": "temperature",
                  "2": "Warehouse B",
                  "3": "2023-06-05T12:30:00Z",
                  "4": "22.8",
                  "5": "Celsius",
                  "13": "2023-03-10",
                  "14": "TempSense Solutions",
                  "15": "TS700",
                  "16": "48017"
                },
                {
                  "0": "S038",
                  "1": "humidity",
                  "2": "Storage Room",
                  "3": "2023-06-05T13:15:00Z",
                  "4": "65.2",
                  "5": "%",
                  "13": "2023-03-20",
                  "14": "HumidSense Inc.",
                  "15": "HM300",
                  "16": "98263"
                },
                {
                  "0": "S039",
                  "1": "sound",
                  "2": "Lab A",
                  "3": "2023-06-05T14:00:00Z",
                  "4": "68.5",
                  "5": "dB",
                  "13": "2023-04-05",
                  "14": "AudioTech Solutions",
                  "15": "AT2000",
                  "16": "72496"
                },
                {
                  "0": "S040",
                  "1": "weight",
                  "2": "Packaging Area",
                  "3": "2023-06-05T14:45:00Z",
                  "4": "12.3",
                  "5": "kg",
                  "13": "2023-03-15",
                  "14": "WeightTech Corp.",
                  "15": "WT500",
                  "16": "39571"
                },
                {
                  "0": "S041",
                  "1": "vibration",
                  "2": "Production Line",
                  "3": "2023-06-05T15:30:00Z",
                  "4": "4.2",
                  "5": "mm/s",
                  "13": "2023-02-28",
                  "14": "VibroTech Solutions",
                  "15": "VT2000",
                  "16": "80123"
                },
                {
                  "0": "S042",
                  "1": "gas",
                  "2": "Storage Facility",
                  "3": "2023-06-05T16:15:00Z",
                  "4": "820",
                  "5": "ppm",
                  "7": "CO2",
                  "13": "2023-02-15",
                  "14": "GasSense Inc.",
                  "15": "GS500",
                  "16": "63057"
                },
                {
                  "0": "S043",
                  "1": "pressure",
                  "2": "Clean Room",
                  "3": "2023-06-05T17:00:00Z",
                  "4": "1023.5",
                  "5": "hPa",
                  "13": "2023-01-10",
                  "14": "PressureTech Inc.",
                  "15": "PT1000",
                  "16": "48921"
                },
                {
                  "0": "S044",
                  "1": "light",
                  "2": "Research Lab",
                  "3": "2023-06-05T17:45:00Z",
                  "4": "550",
                  "5": "lux",
                  "13": "2023-02-05",
                  "14": "LumosTech Solutions",
                  "15": "LT500",
                  "16": "93624"
                },
                {
                  "0": "S045",
                  "1": "proximity",
                  "2": "Warehouse B",
                  "3": "2023-06-05T18:30:00Z",
                  "11": "occupied",
                  "13": "2023-03-12",
                  "14": "ProxiSense Inc.",
                  "15": "PX200",
                  "16": "74258"
                },
                {
                  "0": "S046",
                  "1": "flow",
                  "2": "Processing Plant",
                  "3": "2023-06-05T19:15:00Z",
                  "4": "8.5",
                  "5": "m³/h",
                  "13": "2023-02-22",
                  "14": "FlowTech Systems",
                  "15": "FT100",
                  "16": "57132"
                },
                {
                  "0": "S047",
                  "1": "humidity",
                  "2": "Storage Room",
                  "3": "2023-06-05T20:00:00Z",
                  "4": "62.8",
                  "5": "%",
                  "13": "2023-03-20",
                  "14": "HumidSense Inc.",
                  "15": "HM300",
                  "16": "28714"
                },
                {
                  "0": "S048",
                  "1": "vibration",
                  "2": "Manufacturing Line",
                  "3": "2023-06-05T20:45:00Z",
                  "5": "g",
                  "12": "0.75",
                  "13": "2023-04-02",
                  "14": "VibroTech Solutions",
                  "15": "VT900",
                  "16": "83957"
                },
                {
                  "0": "S049",
                  "1": "gas",
                  "2": "Filling Station",
                  "3": "2023-06-05T21:30:00Z",
                  "5": "%",
                  "6": "18.5",
                  "7": "Oxygen",
                  "13": "2023-03-28",
                  "14": "GasSense Inc.",
                  "15": "GS200",
                  "16": "62571"
                },
                {
                  "0": "S050",
                  "1": "power",
                  "2": "Control Room",
                  "3": "2023-06-05T22:15:00Z",
                  "5": "Watt",
                  "9": "1250",
                  "13": "2023-02-18",
                  "14": "PowerTech Systems",
                  "15": "PT2000",
                  "16": "42789"
                },
                {
                  "0": "S051",
                  "1": "humidity",
                  "2": "Packaging Area",
                  "3": "2023-06-05T23:00:00Z",
                  "4": "55.2",
                  "5": "%",
                  "13": "2023-03-20",
                  "14": "HumidSense Inc.",
                  "15": "HM300",
                  "16": "28714"
                },
                {
                  "0": "S052",
                  "1": "temperature",
                  "2": "Cold Storage",
                  "3": "2023-06-05T23:45:00Z",
                  "4": "-10.2",
                  "5": "Celsius",
                  "13": "2023-01-05",
                  "14": "ColdTech Systems",
                  "15": "CT500",
                  "16": "21596"
                },
                {
                  "0": "S053",
                  "1": "pressure",
                  "2": "Clean Room",
                  "3": "2023-06-06T00:30:00Z",
                  "5": "kPa",
                  "10": "101.2",
                  "13": "2023-02-28",
                  "14": "PressureTech Inc.",
                  "15": "PT100",
                  "16": "93210"
                },
                {
                  "0": "S054",
                  "1": "light",
                  "2": "Laboratory",
                  "3": "2023-06-06T01:15:00Z",
                  "5": "Lux",
                  "8": "850",
                  "13": "2023-03-15",
                  "14": "Lumos Technologies",
                  "15": "LT450",
                  "16": "76429"
                },
                {
                  "0": "S055",
                  "1": "humidity",
                  "2": "Incubator",
                  "3": "2023-06-06T02:00:00Z",
                  "4": "70.5",
                  "5": "%",
                  "13": "2023-03-20",
                  "14": "HumidSense Inc.",
                  "15": "HM300",
                  "16": "28714"
                },
                {
                  "0": "S056",
                  "1": "vibration",
                  "2": "Packing Line",
                  "3": "2023-06-06T02:45:00Z",
                  "5": "g",
                  "12": "0.62",
                  "13": "2023-04-02",
                  "14": "VibroTech Solutions",
                  "15": "VT900",
                  "16": "83957"
                },
                {
                  "0": "S057",
                  "1": "temperature",
                  "2": "Freezer",
                  "3": "2023-06-06T03:30:00Z",
                  "4": "-20.5",
                  "5": "Celsius",
                  "13": "2023-01-05",
                  "14": "ColdTech Systems",
                  "15": "CT500",
                  "16": "21596"
                },
                {
                  "0": "S058",
                  "1": "gas",
                  "2": "Storage Room",
                  "3": "2023-06-06T04:15:00Z",
                  "5": "%",
                  "6": "3.2",
                  "7": "Carbon Dioxide",
                  "13": "2023-03-28",
                  "14": "GasSense Inc.",
                  "15": "GS200",
                  "16": "62571"
                },
                {
                  "0": "S059",
                  "1": "temperature",
                  "2": "Storage Room",
                  "3": "2023-06-06T05:00:00Z",
                  "4": "18.7",
                  "5": "Celsius",
                  "13": "2023-02-10",
                  "14": "TempSense Inc.",
                  "15": "TS300",
                  "16": "48632"
                },
                {
                  "0": "S060",
                  "1": "humidity",
                  "2": "Laboratory",
                  "3": "2023-06-06T05:45:00Z",
                  "4": "63.2",
                  "5": "%",
                  "13": "2023-03-18",
                  "14": "HumidTech Solutions",
                  "15": "HT400",
                  "16": "75420"
                },
                {
                  "0": "S061",
                  "1": "pressure",
                  "2": "Clean Room",
                  "3": "2023-06-06T06:30:00Z",
                  "5": "kPa",
                  "10": "99.8",
                  "13": "2023-01-25",
                  "14": "PressureSolutions",
                  "15": "PS150",
                  "16": "91348"
                },
                {
                  "0": "S062",
                  "1": "light",
                  "2": "Warehouse B",
                  "3": "2023-06-06T07:15:00Z",
                  "5": "Lux",
                  "8": "650",
                  "13": "2023-03-10",
                  "14": "Luminous Corp.",
                  "15": "LU700",
                  "16": "63241"
                },
                {
                  "0": "S063",
                  "1": "vibration",
                  "2": "Production Line",
                  "3": "2023-06-06T08:00:00Z",
                  "5": "g",
                  "12": "0.42",
                  "13": "2023-04-05",
                  "14": "VibeSense Inc.",
                  "15": "VB100",
                  "16": "75194"
                },
                {
                  "0": "S064",
                  "1": "gas",
                  "2": "Lab Storage",
                  "3": "2023-06-06T08:45:00Z",
                  "5": "%",
                  "6": "1.8",
                  "7": "Ammonia",
                  "13": "2023-03-22",
                  "14": "GasTech Systems",
                  "15": "GT300",
                  "16": "52879"
                },
                {
                  "0": "S065",
                  "1": "temperature",
                  "2": "Refrigerator",
                  "3": "2023-06-06T09:30:00Z",
                  "4": "5.2",
                  "5": "Celsius",
                  "13": "2023-02-28",
                  "14": "CoolTech Inc.",
                  "15": "CT500",
                  "16": "92641"
                },
                {
                  "0": "S066",
                  "1": "humidity",
                  "2": "Lab Storage",
                  "3": "2023-06-06T10:15:00Z",
                  "4": "68.9",
                  "5": "%",
                  "13": "2023-03-05",
                  "14": "HumidSense Solutions",
                  "15": "HS450",
                  "16": "74216"
                },
                {
                  "0": "S067",
                  "1": "pressure",
                  "2": "Production Area",
                  "3": "2023-06-06T11:00:00Z",
                  "5": "kPa",
                  "10": "101.3",
                  "13": "2023-02-15",
                  "14": "PressureTech",
                  "15": "PT200",
                  "16": "54238"
                },
                {
                  "0": "S068",
                  "1": "light",
                  "2": "Warehouse C",
                  "3": "2023-06-06T11:45:00Z",
                  "5": "Lux",
                  "8": "500",
                  "13": "2023-01-20",
                  "14": "IllumiTech",
                  "15": "IL800",
                  "16": "81749"
                },
                {
                  "0": "S069",
                  "1": "vibration",
                  "2": "Packaging Area",
                  "3": "2023-06-06T12:30:00Z",
                  "5": "g",
                  "12": "0.35",
                  "13": "2023-03-12",
                  "14": "VibraSense Inc.",
                  "15": "VS120",
                  "16": "69241"
                },
                {
                  "0": "S070",
                  "1": "gas",
                  "2": "Chemical Storage",
                  "3": "2023-06-06T13:15:00Z",
                  "5": "%",
                  "6": "2.1",
                  "7": "Hydrogen Peroxide",
                  "13": "2023-02-25",
                  "14": "GasSense",
                  "15": "GS600",
                  "16": "93571"
                },
                {
                  "0": "S071",
                  "1": "temperature",
                  "2": "Cold Storage Room",
                  "3": "2023-06-06T14:00:00Z",
                  "4": "-10.7",
                  "5": "Celsius",
                  "13": "2023-03-18",
                  "14": "FreezeTech",
                  "15": "FT300",
                  "16": "42518"
                },
                {
                  "0": "S072",
                  "1": "humidity",
                  "2": "Cleanroom",
                  "3": "2023-06-06T14:45:00Z",
                  "4": "45.2",
                  "5": "%",
                  "13": "2023-03-05",
                  "14": "HumidSense Solutions",
                  "15": "HS450",
                  "16": "74216"
                },
                {
                  "0": "S073",
                  "1": "pressure",
                  "2": "Filling Station",
                  "3": "2023-06-06T15:30:00Z",
                  "5": "kPa",
                  "10": "98.7",
                  "13": "2023-02-15",
                  "14": "PressureTech",
                  "15": "PT200",
                  "16": "54238"
                },
                {
                  "0": "S074",
                  "1": "light",
                  "2": "Warehouse B",
                  "3": "2023-06-06T16:15:00Z",
                  "5": "Lux",
                  "8": "800",
                  "13": "2023-01-20",
                  "14": "IllumiTech",
                  "15": "IL800",
                  "16": "81749"
                },
                {
                  "0": "S075",
                  "1": "vibration",
                  "2": "Mixing Area",
                  "3": "2023-06-06T17:00:00Z",
                  "5": "g",
                  "12": "0.2",
                  "13": "2023-03-12",
                  "14": "VibraSense Inc.",
                  "15": "VS120",
                  "16": "69241"
                },
                {
                  "0": "S076",
                  "1": "gas",
                  "2": "Laboratory",
                  "3": "2023-06-06T17:45:00Z",
                  "5": "%",
                  "6": "4.3",
                  "7": "Ethanol",
                  "13": "2023-02-25",
                  "14": "GasSense",
                  "15": "GS600",
                  "16": "93571"
                },
                {
                  "0": "S077",
                  "1": "temperature",
                  "2": "Incubator Room",
                  "3": "2023-06-06T18:30:00Z",
                  "4": "37.8",
                  "5": "Celsius",
                  "13": "2023-02-28",
                  "14": "TempTech",
                  "15": "TT500",
                  "16": "85632"
                },
                {
                  "0": "S078",
                  "1": "humidity",
                  "2": "Lab Storage",
                  "3": "2023-06-06T19:15:00Z",
                  "4": "60.5",
                  "5": "%",
                  "13": "2023-03-05",
                  "14": "HumidSense Solutions",
                  "15": "HS450",
                  "16": "74216"
                },
                {
                  "0": "S079",
                  "1": "pressure",
                  "2": "Packing Area",
                  "3": "2023-06-06T20:00:00Z",
                  "5": "kPa",
                  "10": "101.2",
                  "13": "2023-02-15",
                  "14": "PressureTech",
                  "15": "PT200",
                  "16": "54238"
                },
                {
                  "0": "S080",
                  "1": "light",
                  "2": "Warehouse C",
                  "3": "2023-06-06T20:45:00Z",
                  "5": "Lux",
                  "8": "650",
                  "13": "2023-01-20",
                  "14": "IllumiTech",
                  "15": "IL800",
                  "16": "81749"
                },
                {
                  "0": "S081",
                  "1": "vibration",
                  "2": "Packing Area",
                  "3": "2023-06-06T21:30:00Z",
                  "5": "g",
                  "12": "0.3",
                  "13": "2023-03-12",
                  "14": "VibraSense Inc.",
                  "15": "VS120",
                  "16": "69241"
                },
                {
                  "0": "S082",
                  "1": "gas",
                  "2": "Chemical Storage",
                  "3": "2023-06-06T22:15:00Z",
                  "5": "%",
                  "6": "3.8",
                  "7": "Methanol",
                  "13": "2023-02-25",
                  "14": "GasSense",
                  "15": "GS600",
                  "16": "93571"
                },
                {
                  "0": "S083",
                  "1": "temperature",
                  "2": "Cold Storage",
                  "3": "2023-06-06T23:00:00Z",
                  "4": "2.5",
                  "5": "Celsius",
                  "13": "2023-01-10",
                  "14": "FreezeTech",
                  "15": "FT300",
                  "16": "27651"
                },
                {
                  "0": "S084",
                  "1": "humidity",
                  "2": "Clean Room",
                  "3": "2023-06-06T23:45:00Z",
                  "4": "45.2",
                  "5": "%",
                  "13": "2023-03-05",
                  "14": "HumidSense Solutions",
                  "15": "HS450",
                  "16": "74216"
                },
                {
                  "0": "S085",
                  "1": "pressure",
                  "2": "Laboratory",
                  "3": "2023-06-07T00:30:00Z",
                  "5": "kPa",
                  "10": "98.7",
                  "13": "2023-02-15",
                  "14": "PressureTech",
                  "15": "PT200",
                  "16": "54238"
                },
                {
                  "0": "S086",
                  "1": "light",
                  "2": "Production Area",
                  "3": "2023-06-07T01:15:00Z",
                  "5": "Lux",
                  "8": "450",
                  "13": "2023-01-20",
                  "14": "IllumiTech",
                  "15": "IL800",
                  "16": "81749"
                },
                {
                  "0": "S087",
                  "1": "vibration",
                  "2": "Warehouse B",
                  "3": "2023-06-07T02:00:00Z",
                  "5": "g",
                  "12": "0.5",
                  "13": "2023-03-12",
                  "14": "VibraSense Inc.",
                  "15": "VS120",
                  "16": "69241"
                },
                {
                  "0": "S088",
                  "1": "gas",
                  "2": "Chemical Storage",
                  "3": "2023-06-07T02:45:00Z",
                  "5": "%",
                  "6": "2.1",
                  "7": "Ethanol",
                  "13": "2023-02-25",
                  "14": "GasSense",
                  "15": "GS600",
                  "16": "93571"
                },
                {
                  "0": "S089",
                  "1": "temperature",
                  "2": "Refrigerator",
                  "3": "2023-06-07T03:30:00Z",
                  "4": "6.8",
                  "5": "Celsius",
                  "13": "2023-03-18",
                  "14": "CoolSense",
                  "15": "CS400",
                  "16": "62584"
                },
                {
                  "0": "S090",
                  "1": "humidity",
                  "2": "Clean Room",
                  "3": "2023-06-07T04:15:00Z",
                  "4": "48.9",
                  "5": "%",
                  "13": "2023-01-10",
                  "14": "HumidSense Solutions",
                  "15": "HS450",
                  "16": "18963"
                },
                {
                  "0": "S091",
                  "1": "pressure",
                  "2": "Laboratory",
                  "3": "2023-06-07T05:00:00Z",
                  "5": "kPa",
                  "10": "101.2",
                  "13": "2023-02-28",
                  "14": "PressureTech",
                  "15": "PT200",
                  "16": "75293"
                },
                {
                  "0": "S092",
                  "1": "light",
                  "2": "Production Area",
                  "3": "2023-06-07T05:45:00Z",
                  "5": "Lux",
                  "8": "520",
                  "13": "2023-01-15",
                  "14": "IllumiTech",
                  "15": "IL800",
                  "16": "52639"
                },
                {
                  "0": "S093",
                  "1": "vibration",
                  "2": "Warehouse B",
                  "3": "2023-06-07T06:30:00Z",
                  "5": "g",
                  "12": "0.3",
                  "13": "2023-02-10",
                  "14": "VibraSense Inc.",
                  "15": "VS120",
                  "16": "31957"
                },
                {
                  "0": "S094",
                  "1": "gas",
                  "2": "Chemical Storage",
                  "3": "2023-06-07T07:15:00Z",
                  "5": "%",
                  "6": "1.8",
                  "7": "Methane",
                  "13": "2023-03-05",
                  "14": "GasSense",
                  "15": "GS600",
                  "16": "85246"
                },
                {
                  "0": "S095",
                  "1": "temperature",
                  "2": "Warehouse C",
                  "3": "2023-06-07T08:00:00Z",
                  "4": "26.2",
                  "5": "Celsius",
                  "13": "2023-02-20",
                  "14": "TempPro",
                  "15": "TP300",
                  "16": "98765"
                },
                {
                  "0": "S096",
                  "1": "humidity",
                  "2": "Clean Room",
                  "3": "2023-06-07T08:45:00Z",
                  "4": "51.3",
                  "5": "%",
                  "13": "2023-03-10",
                  "14": "HumidTech",
                  "15": "HT500",
                  "16": "74125"
                },
                {
                  "0": "S097",
                  "1": "pressure",
                  "2": "Laboratory",
                  "3": "2023-06-07T09:30:00Z",
                  "5": "kPa",
                  "10": "100.8",
                  "13": "2023-02-15",
                  "14": "PressureSense",
                  "15": "PS250",
                  "16": "36985"
                },
                {
                  "0": "S098",
                  "1": "light",
                  "2": "Production Area",
                  "3": "2023-06-07T10:15:00Z",
                  "5": "Lux",
                  "8": "480",
                  "13": "2023-01-25",
                  "14": "BrightSense",
                  "15": "BR700",
                  "16": "85214"
                },
                {
                  "0": "S099",
                  "1": "vibration",
                  "2": "Warehouse B",
                  "3": "2023-06-07T11:00:00Z",
                  "5": "g",
                  "12": "0.4",
                  "13": "2023-03-01",
                  "14": "VibraTech",
                  "15": "VT150",
                  "16": "96325"
                },
                {
                  "0": "S100",
                  "1": "gas",
                  "2": "Chemical Storage",
                  "3": "2023-06-07T11:45:00Z",
                  "5": "%",
                  "6": "2.1",
                  "7": "Carbon Dioxide",
                  "13": "2023-03-15",
                  "14": "GasTech",
                  "15": "GT700",
                  "16": "14785"
                },
                {
                  "0": "S101",
                  "1": "temperature",
                  "2": "Storage Room",
                  "3": "2023-06-07T12:30:00Z",
                  "4": "25.8",
                  "5": "Celsius",
                  "13": "2023-01-10",
                  "14": "TempPro",
                  "15": "TP200",
                  "16": "36987"
                },
                {
                  "0": "S102",
                  "1": "humidity",
                  "2": "Clean Room",
                  "3": "2023-06-07T13:15:00Z",
                  "4": "49.7",
                  "5": "%",
                  "13": "2023-02-05",
                  "14": "HumidTech",
                  "15": "HT300",
                  "16": "74123"
                },
                {
                  "0": "S103",
                  "1": "pressure",
                  "2": "Laboratory",
                  "3": "2023-06-07T14:00:00Z",
                  "5": "kPa",
                  "10": "100.5",
                  "13": "2023-02-10",
                  "14": "PressureSense",
                  "15": "PS150",
                  "16": "36989"
                },
                {
                  "0": "S104",
                  "1": "light",
                  "2": "Production Area",
                  "3": "2023-06-07T14:45:00Z",
                  "5": "Lux",
                  "8": "520",
                  "13": "2023-01-20",
                  "14": "BrightSense",
                  "15": "BR500",
                  "16": "85216"
                },
                {
                  "0": "S105",
                  "1": "vibration",
                  "2": "Warehouse B",
                  "3": "2023-06-07T15:30:00Z",
                  "5": "g",
                  "12": "0.3",
                  "13": "2023-02-25",
                  "14": "VibraTech",
                  "15": "VT100",
                  "16": "96327"
                },
                {
                  "0": "S106",
                  "1": "gas",
                  "2": "Chemical Storage",
                  "3": "2023-06-07T16:15:00Z",
                  "5": "%",
                  "6": "1.8",
                  "7": "Ammonia",
                  "13": "2023-03-05",
                  "14": "GasTech",
                  "15": "GT500",
                  "16": "14787"
                },
                {
                  "0": "S107",
                  "1": "temperature",
                  "2": "Freezer",
                  "3": "2023-06-07T17:00:00Z",
                  "4": "-18.2",
                  "5": "Celsius",
                  "13": "2023-02-28",
                  "14": "ColdSense",
                  "15": "CS400",
                  "16": "25896"
                },
                {
                  "0": "S108",
                  "1": "humidity",
                  "2": "Warehouse C",
                  "3": "2023-06-07T17:45:00Z",
                  "4": "62.1",
                  "5": "%",
                  "13": "2023-01-25",
                  "14": "HumidPro",
                  "15": "HP250",
                  "16": "98741"
                },
                {
                  "0": "S109",
                  "1": "pressure",
                  "2": "Packaging Area",
                  "3": "2023-06-07T18:30:00Z",
                  "5": "kPa",
                  "10": "98.9",
                  "13": "2023-03-01",
                  "14": "PressureTech",
                  "15": "PT180",
                  "16": "78542"
                },
                {
                  "0": "S110",
                  "1": "light",
                  "2": "Storage Room",
                  "3": "2023-06-07T19:15:00Z",
                  "5": "Lux",
                  "8": "400",
                  "13": "2023-02-15",
                  "14": "LightPro",
                  "15": "LP300",
                  "16": "36985"
                },
                {
                  "0": "S111",
                  "1": "vibration",
                  "2": "Production Area",
                  "3": "2023-06-07T20:00:00Z",
                  "5": "g",
                  "12": "0.5",
                  "13": "2023-03-10",
                  "14": "VibroSense",
                  "15": "VS200",
                  "16": "63214"
                },
                {
                  "0": "S112",
                  "1": "gas",
                  "2": "Chemical Lab",
                  "3": "2023-06-07T20:45:00Z",
                  "5": "%",
                  "6": "0.8",
                  "7": "Nitrogen",
                  "13": "2023-03-15",
                  "14": "GasPro",
                  "15": "GP600",
                  "16": "95123"
                },
                {
                  "0": "S113",
                  "1": "temperature",
                  "2": "Cold Storage",
                  "3": "2023-06-07T21:30:00Z",
                  "4": "-12.5",
                  "5": "Celsius",
                  "13": "2023-02-20",
                  "14": "FreezeTech",
                  "15": "FT500",
                  "16": "78456"
                },
                {
                  "0": "S114",
                  "1": "humidity",
                  "2": "Warehouse B",
                  "3": "2023-06-07T22:15:00Z",
                  "4": "58.7",
                  "5": "%",
                  "13": "2023-01-30",
                  "14": "HumidSense",
                  "15": "HS300",
                  "16": "23658"
                },
                {
                  "0": "S115",
                  "1": "pressure",
                  "2": "Clean Room",
                  "3": "2023-06-07T23:00:00Z",
                  "5": "kPa",
                  "10": "101.2",
                  "13": "2023-02-28",
                  "14": "PressPro",
                  "15": "PP200",
                  "16": "47852"
                },
                {
                  "0": "S116",
                  "1": "light",
                  "2": "Lab A",
                  "3": "2023-06-07T23:45:00Z",
                  "5": "Lux",
                  "8": "350",
                  "13": "2023-03-05",
                  "14": "Lumina",
                  "15": "LM400",
                  "16": "69854"
                },
                {
                  "0": "S117",
                  "1": "vibration",
                  "2": "Machine Room",
                  "3": "2023-06-08T00:30:00Z",
                  "5": "g",
                  "12": "0.7",
                  "13": "2023-03-20",
                  "14": "VibePro",
                  "15": "VP250",
                  "16": "32145"
                },
                {
                  "0": "S118",
                  "1": "gas",
                  "2": "Storage Area",
                  "3": "2023-06-08T01:15:00Z",
                  "5": "%",
                  "6": "0.9",
                  "7": "Oxygen",
                  "13": "2023-03-25",
                  "14": "OxySense",
                  "15": "OS500",
                  "16": "85236"
                },
                {
                  "0": "S119",
                  "1": "temperature",
                  "2": "Lab B",
                  "3": "2023-06-08T02:00:00Z",
                  "4": "21.8",
                  "5": "Celsius",
                  "13": "2023-04-10",
                  "14": "TempTech",
                  "15": "TT700",
                  "16": "96587"
                },
                {
                  "0": "S120",
                  "1": "humidity",
                  "2": "Production Area",
                  "3": "2023-06-08T02:45:00Z",
                  "4": "62.3",
                  "5": "%",
                  "13": "2023-04-15",
                  "14": "HygroSense",
                  "15": "HG400",
                  "16": "78549"
                },
                {
                  "0": "S121",
                  "1": "pressure",
                  "2": "Clean Room",
                  "3": "2023-06-08T03:30:00Z",
                  "5": "kPa",
                  "10": "100.9",
                  "13": "2023-05-02",
                  "14": "PressPro",
                  "15": "PP200",
                  "16": "36251"
                },
                {
                  "0": "S122",
                  "1": "light",
                  "2": "Lab C",
                  "3": "2023-06-08T04:15:00Z",
                  "5": "Lux",
                  "8": "420",
                  "13": "2023-05-10",
                  "14": "Lumina",
                  "15": "LM400",
                  "16": "65428"
                },
                {
                  "0": "S123",
                  "1": "vibration",
                  "2": "Machine Room",
                  "3": "2023-06-08T05:00:00Z",
                  "5": "g",
                  "12": "0.8",
                  "13": "2023-05-15",
                  "14": "VibePro",
                  "15": "VP250",
                  "16": "98521"
                },
                {
                  "0": "S124",
                  "1": "gas",
                  "2": "Storage Area",
                  "3": "2023-06-08T05:45:00Z",
                  "5": "%",
                  "6": "0.5",
                  "7": "Nitrogen",
                  "13": "2023-05-20",
                  "14": "GasSense",
                  "15": "GS600",
                  "16": "41258"
                },
                {
                  "0": "S125",
                  "1": "temperature",
                  "2": "Cold Storage",
                  "3": "2023-06-08T06:30:00Z",
                  "4": "-18.5",
                  "5": "Celsius",
                  "13": "2023-05-25",
                  "14": "FreezeTech",
                  "15": "FT500",
                  "16": "63214"
                },
                {
                  "0": "S126",
                  "1": "humidity",
                  "2": "Lab D",
                  "3": "2023-06-08T07:15:00Z",
                  "4": "48.9",
                  "5": "%",
                  "13": "2023-05-30",
                  "14": "HumidSense",
                  "15": "HM300",
                  "16": "98547"
                },
                {
                  "0": "S127",
                  "1": "pressure",
                  "2": "Production Area",
                  "3": "2023-06-08T08:00:00Z",
                  "5": "kPa",
                  "10": "98.7",
                  "13": "2023-05-02",
                  "14": "PressPro",
                  "15": "PP200",
                  "16": "36251"
                },
                {
                  "0": "S128",
                  "1": "light",
                  "2": "Lab E",
                  "3": "2023-06-08T08:45:00Z",
                  "5": "Lux",
                  "8": "380",
                  "13": "2023-05-10",
                  "14": "Lumina",
                  "15": "LM400",
                  "16": "65428"
                },
                {
                  "0": "S129",
                  "1": "vibration",
                  "2": "Machine Room",
                  "3": "2023-06-08T09:30:00Z",
                  "5": "g",
                  "12": "0.6",
                  "13": "2023-05-15",
                  "14": "VibePro",
                  "15": "VP250",
                  "16": "98521"
                },
                {
                  "0": "S130",
                  "1": "gas",
                  "2": "Storage Area",
                  "3": "2023-06-08T10:15:00Z",
                  "5": "%",
                  "6": "0.8",
                  "7": "Oxygen",
                  "13": "2023-05-20",
                  "14": "GasSense",
                  "15": "GS600",
                  "16": "41258"
                }
              ],
              "schema": [
                {
                  "key": "0",
                  "name": "sensor_id",
                  "type": "string"
                },
                {
                  "key": "1",
                  "name": "sensor_type",
                  "type": "string"
                },
                {
                  "key": "2",
                  "name": "location",
                  "type": "string"
                },
                {
                  "key": "3",
                  "name": "timestamp",
                  "type": "string"
                },
                {
                  "key": "4",
                  "name": "reading",
                  "type": "string"
                },
                {
                  "key": "5",
                  "name": "unit",
                  "type": "string"
                },
                {
                  "key": "6",
                  "name": "concentration",
                  "type": "double"
                },
                {
                  "key": "7",
                  "name": "gas_type",
                  "type": "string"
                },
                {
                  "key": "8",
                  "name": "light_intensity",
                  "type": "bigint"
                },
                {
                  "key": "9",
                  "name": "power_consumption",
                  "type": "bigint"
                },
                {
                  "key": "10",
                  "name": "pressure",
                  "type": "double"
                },
                {
                  "key": "11",
                  "name": "status",
                  "type": "string"
                },
                {
                  "key": "12",
                  "name": "vibration_intensity",
                  "type": "double"
                },
                {
                  "key": "13",
                  "name": "calibration_date",
                  "type": "string"
                },
                {
                  "key": "14",
                  "name": "manufacturer",
                  "type": "string"
                },
                {
                  "key": "15",
                  "name": "model",
                  "type": "string"
                },
                {
                  "key": "16",
                  "name": "serial_number",
                  "type": "string"
                }
              ],
              "truncated": false
            }
          },
          "type": "Synapse.DataFrame"
        },
        "ec48bbb6-6019-4433-a909-071077dbf70a": {
          "persist_state": {
            "view": {
              "chartOptions": {
                "aggregationType": "count",
                "categoryFieldKeys": [
                  "0"
                ],
                "chartType": "bar",
                "isStacked": false,
                "seriesFieldKeys": [
                  "0"
                ]
              },
              "tableOptions": {},
              "type": "details"
            }
          },
          "sync_state": {
            "isSummary": false,
            "language": "scala",
            "table": {
              "rows": [
                {
                  "0": "S001",
                  "1": "temperature",
                  "2": "Warehouse A",
                  "3": "2023-06-04T09:30:00Z",
                  "4": "25.5",
                  "5": "Celsius",
                  "6": "2023-01-15",
                  "7": "ABC Sensors Inc.",
                  "8": "TS200",
                  "9": "12345"
                },
                {
                  "0": "S010",
                  "1": "temperature",
                  "2": "Refrigeration Room",
                  "3": "2023-06-04T16:15:00Z",
                  "4": "-15.2",
                  "5": "Celsius",
                  "6": "2023-01-30",
                  "7": "CoolSense Inc.",
                  "8": "CT2000",
                  "9": "24680"
                },
                {
                  "0": "S015",
                  "1": "temperature",
                  "2": "Storage Area",
                  "3": "2023-06-04T20:00:00Z",
                  "4": "18.9",
                  "5": "Celsius",
                  "6": "2023-01-05",
                  "7": "TempSense Inc.",
                  "8": "TM100",
                  "9": "24680"
                },
                {
                  "0": "S022",
                  "1": "temperature",
                  "2": "Cleanroom",
                  "3": "2023-06-05T01:15:00Z",
                  "4": "23.1",
                  "5": "Celsius",
                  "6": "2023-01-30",
                  "7": "TempTech Solutions",
                  "8": "TT400",
                  "9": "80246"
                },
                {
                  "0": "S027",
                  "1": "temperature",
                  "2": "Storage Room",
                  "3": "2023-06-05T05:00:00Z",
                  "4": "21.8",
                  "5": "Celsius",
                  "6": "2023-01-30",
                  "7": "TempTech Solutions",
                  "8": "TT400",
                  "9": "80246"
                },
                {
                  "0": "S031",
                  "1": "temperature",
                  "2": "Storage Room",
                  "3": "2023-06-05T08:00:00Z",
                  "4": "21.5",
                  "5": "Celsius",
                  "6": "2023-01-30",
                  "7": "TempTech Solutions",
                  "8": "TT400",
                  "9": "80246"
                },
                {
                  "0": "S037",
                  "1": "temperature",
                  "2": "Warehouse B",
                  "3": "2023-06-05T12:30:00Z",
                  "4": "22.8",
                  "5": "Celsius",
                  "6": "2023-03-10",
                  "7": "TempSense Solutions",
                  "8": "TS700",
                  "9": "48017"
                },
                {
                  "0": "S052",
                  "1": "temperature",
                  "2": "Cold Storage",
                  "3": "2023-06-05T23:45:00Z",
                  "4": "-10.2",
                  "5": "Celsius",
                  "6": "2023-01-05",
                  "7": "ColdTech Systems",
                  "8": "CT500",
                  "9": "21596"
                },
                {
                  "0": "S057",
                  "1": "temperature",
                  "2": "Freezer",
                  "3": "2023-06-06T03:30:00Z",
                  "4": "-20.5",
                  "5": "Celsius",
                  "6": "2023-01-05",
                  "7": "ColdTech Systems",
                  "8": "CT500",
                  "9": "21596"
                },
                {
                  "0": "S059",
                  "1": "temperature",
                  "2": "Storage Room",
                  "3": "2023-06-06T05:00:00Z",
                  "4": "18.7",
                  "5": "Celsius",
                  "6": "2023-02-10",
                  "7": "TempSense Inc.",
                  "8": "TS300",
                  "9": "48632"
                },
                {
                  "0": "S065",
                  "1": "temperature",
                  "2": "Refrigerator",
                  "3": "2023-06-06T09:30:00Z",
                  "4": "5.2",
                  "5": "Celsius",
                  "6": "2023-02-28",
                  "7": "CoolTech Inc.",
                  "8": "CT500",
                  "9": "92641"
                },
                {
                  "0": "S071",
                  "1": "temperature",
                  "2": "Cold Storage Room",
                  "3": "2023-06-06T14:00:00Z",
                  "4": "-10.7",
                  "5": "Celsius",
                  "6": "2023-03-18",
                  "7": "FreezeTech",
                  "8": "FT300",
                  "9": "42518"
                },
                {
                  "0": "S077",
                  "1": "temperature",
                  "2": "Incubator Room",
                  "3": "2023-06-06T18:30:00Z",
                  "4": "37.8",
                  "5": "Celsius",
                  "6": "2023-02-28",
                  "7": "TempTech",
                  "8": "TT500",
                  "9": "85632"
                },
                {
                  "0": "S083",
                  "1": "temperature",
                  "2": "Cold Storage",
                  "3": "2023-06-06T23:00:00Z",
                  "4": "2.5",
                  "5": "Celsius",
                  "6": "2023-01-10",
                  "7": "FreezeTech",
                  "8": "FT300",
                  "9": "27651"
                },
                {
                  "0": "S089",
                  "1": "temperature",
                  "2": "Refrigerator",
                  "3": "2023-06-07T03:30:00Z",
                  "4": "6.8",
                  "5": "Celsius",
                  "6": "2023-03-18",
                  "7": "CoolSense",
                  "8": "CS400",
                  "9": "62584"
                },
                {
                  "0": "S095",
                  "1": "temperature",
                  "2": "Warehouse C",
                  "3": "2023-06-07T08:00:00Z",
                  "4": "26.2",
                  "5": "Celsius",
                  "6": "2023-02-20",
                  "7": "TempPro",
                  "8": "TP300",
                  "9": "98765"
                },
                {
                  "0": "S101",
                  "1": "temperature",
                  "2": "Storage Room",
                  "3": "2023-06-07T12:30:00Z",
                  "4": "25.8",
                  "5": "Celsius",
                  "6": "2023-01-10",
                  "7": "TempPro",
                  "8": "TP200",
                  "9": "36987"
                },
                {
                  "0": "S107",
                  "1": "temperature",
                  "2": "Freezer",
                  "3": "2023-06-07T17:00:00Z",
                  "4": "-18.2",
                  "5": "Celsius",
                  "6": "2023-02-28",
                  "7": "ColdSense",
                  "8": "CS400",
                  "9": "25896"
                },
                {
                  "0": "S113",
                  "1": "temperature",
                  "2": "Cold Storage",
                  "3": "2023-06-07T21:30:00Z",
                  "4": "-12.5",
                  "5": "Celsius",
                  "6": "2023-02-20",
                  "7": "FreezeTech",
                  "8": "FT500",
                  "9": "78456"
                },
                {
                  "0": "S119",
                  "1": "temperature",
                  "2": "Lab B",
                  "3": "2023-06-08T02:00:00Z",
                  "4": "21.8",
                  "5": "Celsius",
                  "6": "2023-04-10",
                  "7": "TempTech",
                  "8": "TT700",
                  "9": "96587"
                },
                {
                  "0": "S125",
                  "1": "temperature",
                  "2": "Cold Storage",
                  "3": "2023-06-08T06:30:00Z",
                  "4": "-18.5",
                  "5": "Celsius",
                  "6": "2023-05-25",
                  "7": "FreezeTech",
                  "8": "FT500",
                  "9": "63214"
                }
              ],
              "schema": [
                {
                  "key": "0",
                  "name": "sensor_id",
                  "type": "string"
                },
                {
                  "key": "1",
                  "name": "sensor_type",
                  "type": "string"
                },
                {
                  "key": "2",
                  "name": "location",
                  "type": "string"
                },
                {
                  "key": "3",
                  "name": "timestamp",
                  "type": "string"
                },
                {
                  "key": "4",
                  "name": "reading",
                  "type": "string"
                },
                {
                  "key": "5",
                  "name": "unit",
                  "type": "string"
                },
                {
                  "key": "6",
                  "name": "calibration_date",
                  "type": "string"
                },
                {
                  "key": "7",
                  "name": "manufacturer",
                  "type": "string"
                },
                {
                  "key": "8",
                  "name": "model",
                  "type": "string"
                },
                {
                  "key": "9",
                  "name": "serial_number",
                  "type": "string"
                }
              ],
              "truncated": false
            }
          },
          "type": "Synapse.DataFrame"
        }
      },
      "version": "0.1"
    }
  },
  "nbformat": 4,
  "nbformat_minor": 2
}
